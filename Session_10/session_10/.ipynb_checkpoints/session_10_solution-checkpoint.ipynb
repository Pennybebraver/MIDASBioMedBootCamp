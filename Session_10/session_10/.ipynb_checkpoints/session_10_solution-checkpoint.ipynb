{
 "cells": [
  {
   "cell_type": "markdown",
   "id": "stainless-consent",
   "metadata": {},
   "source": [
    "## Introduction\n",
    "Today we're going to build linear regression, logistic regression, ridge regression and Naive Bayes using health related data. Struecture codes will be provided. Along the way, we'll play with some fun Python codes. By the end, we'll have a complete model building process."
   ]
  },
  {
   "cell_type": "code",
   "execution_count": 56,
   "id": "disabled-pizza",
   "metadata": {},
   "outputs": [
    {
     "name": "stdout",
     "output_type": "stream",
     "text": [
      "/Users/pengning/Desktop/Bootcamp/session_10\n"
     ]
    }
   ],
   "source": [
    "# View current directory. This is a command line command, so remember to put a \"!\" in the front\n",
    "!pwd\n",
    "# Please make sure the downloaded data are in the same folder as listed in the drive\n",
    "# So that the data loading process will go smoothly"
   ]
  },
  {
   "cell_type": "markdown",
   "id": "extraordinary-gravity",
   "metadata": {},
   "source": [
    "In **introduction**, you will work with a simplified sBP dataset that have been consolidated into one```'TXT'``` file available in the data folder as ```'dataset1.txt'```. Specifically, your goal will be to use this data to predict the systolic blood pressure (sBP) of a patient based on the patient's age. \n",
    "\n",
    "Since the target variable here is quantitative, this is a regression problem. To begin, we will start with simplest case. You will fit a simple linear regression with just one feature: ```'age'```. To make the introduction easy to understand, we will not split train and test data but focus more on the model fitting part.\n",
    "\n",
    "Before that, however, you need to import the data and get it into the form needed by scikit-learn. This involves creating feature and target variable arrays. Furthermore, since you are going to use only one feature to begin with, you need to do some reshaping using NumPy's ```.reshape()``` method. Don't worry too much about this reshaping right now, but it is something you will have to do occasionally when working with scikit-learn so it is useful to practice."
   ]
  },
  {
   "cell_type": "code",
   "execution_count": 57,
   "id": "civil-dylan",
   "metadata": {},
   "outputs": [],
   "source": [
    "# Import packages and classes\n",
    "# It is a good habit to install packages at the \n",
    "# beginning of the codes\n",
    "# But for illustration purpose, we import codes \n",
    "# at the beginning of each section.\n",
    "\n",
    "# Data manipulation\n",
    "import pandas as pd \n",
    "import numpy as np \n",
    "\n",
    "# Model building\n",
    "from sklearn.linear_model import LinearRegression\n",
    "# Visualization\n",
    "import matplotlib.pyplot as plt \n",
    "import seaborn as sns \n",
    "from matplotlib import style\n",
    "\n",
    "# Evaluation metrics\n",
    "from sklearn.metrics import mean_squared_error \n",
    "from sklearn.metrics import mean_absolute_error \n",
    "# import statsmodels.api as sm\n",
    "\n",
    "from termcolor import colored as cl\n",
    "# Split train and test sets\n",
    "from sklearn.model_selection import train_test_split\n",
    "\n",
    "# Load model package\n",
    "from sklearn.linear_model import LogisticRegression\n",
    "\n",
    "# Display the plot in notebook and make plots sorted\n",
    "%matplotlib inline "
   ]
  },
  {
   "cell_type": "markdown",
   "id": "southeast-hartford",
   "metadata": {},
   "source": [
    "## Simple linear regression"
   ]
  },
  {
   "cell_type": "code",
   "execution_count": 58,
   "id": "needed-remark",
   "metadata": {},
   "outputs": [],
   "source": [
    "# Download data to data folder\n",
    "health_df_1 = pd.read_csv('./data/dataset1.txt', delimiter = \",\")"
   ]
  },
  {
   "cell_type": "code",
   "execution_count": 59,
   "id": "charming-country",
   "metadata": {},
   "outputs": [
    {
     "data": {
      "text/html": [
       "<div>\n",
       "<style scoped>\n",
       "    .dataframe tbody tr th:only-of-type {\n",
       "        vertical-align: middle;\n",
       "    }\n",
       "\n",
       "    .dataframe tbody tr th {\n",
       "        vertical-align: top;\n",
       "    }\n",
       "\n",
       "    .dataframe thead th {\n",
       "        text-align: right;\n",
       "    }\n",
       "</style>\n",
       "<table border=\"1\" class=\"dataframe\">\n",
       "  <thead>\n",
       "    <tr style=\"text-align: right;\">\n",
       "      <th></th>\n",
       "      <th>SBP</th>\n",
       "      <th>Age</th>\n",
       "    </tr>\n",
       "  </thead>\n",
       "  <tbody>\n",
       "    <tr>\n",
       "      <th>0</th>\n",
       "      <td>144</td>\n",
       "      <td>39</td>\n",
       "    </tr>\n",
       "    <tr>\n",
       "      <th>1</th>\n",
       "      <td>138</td>\n",
       "      <td>45</td>\n",
       "    </tr>\n",
       "    <tr>\n",
       "      <th>2</th>\n",
       "      <td>145</td>\n",
       "      <td>47</td>\n",
       "    </tr>\n",
       "    <tr>\n",
       "      <th>3</th>\n",
       "      <td>162</td>\n",
       "      <td>65</td>\n",
       "    </tr>\n",
       "    <tr>\n",
       "      <th>4</th>\n",
       "      <td>170</td>\n",
       "      <td>67</td>\n",
       "    </tr>\n",
       "  </tbody>\n",
       "</table>\n",
       "</div>"
      ],
      "text/plain": [
       "   SBP  Age\n",
       "0  144   39\n",
       "1  138   45\n",
       "2  145   47\n",
       "3  162   65\n",
       "4  170   67"
      ]
     },
     "execution_count": 59,
     "metadata": {},
     "output_type": "execute_result"
    }
   ],
   "source": [
    "# To double check whether table501.txt has been loaded succesfully and\n",
    "# have a brief view on the data. \n",
    "# Always list part of the data and check if they make sense.\n",
    "health_df_1.head()"
   ]
  },
  {
   "cell_type": "code",
   "execution_count": 60,
   "id": "central-monkey",
   "metadata": {},
   "outputs": [
    {
     "name": "stdout",
     "output_type": "stream",
     "text": [
      "Before any preprocessing, the shape of X array is: (28,)\n",
      "Before reshaping, the shape of X array is: (28, 1)\n",
      "The shape of Y array is: (28,)\n"
     ]
    }
   ],
   "source": [
    "# Extrac X (SBP) and Y (Age)\n",
    "X = health_df_1.SBP\n",
    "Y = health_df_1.Age\n",
    "print(\"Before any preprocessing, the shape of X array is:\", X.shape)\n",
    "# Call .reshape() on x because this array is required to be two-dimensional\n",
    "# For more information about the reshape function:\n",
    "# https://numpy.org/doc/stable/reference/generated/numpy.reshape.html\n",
    "X = X.to_numpy().reshape(-1, 1)\n",
    "print(\"Before reshaping, the shape of X array is:\", X.shape)\n",
    "Y = Y.to_numpy()\n",
    "print(\"The shape of Y array is:\", Y.shape)"
   ]
  },
  {
   "cell_type": "markdown",
   "id": "peripheral-adapter",
   "metadata": {},
   "source": [
    "### Exploring the data\n",
    "As always, it is important to explore your data before building models. Histogram helps us to have a brief idea of the data distribution and examine outliers."
   ]
  },
  {
   "cell_type": "code",
   "execution_count": 61,
   "id": "celtic-market",
   "metadata": {},
   "outputs": [
    {
     "data": {
      "image/png": "[encoded data removed]",
      "text/plain": [
       "<Figure size 432x288 with 1 Axes>"
      ]
     },
     "metadata": {
      "needs_background": "light"
     },
     "output_type": "display_data"
    }
   ],
   "source": [
    "# Visualize the data\n",
    "# Create a histogram with normal curve\n",
    "# An \"interface\" to matplotlib.axes.Axes.hist() method\n",
    "# Use funtion matplotlib.pyplot.hist(x, alpha=n)to plot histogram\n",
    "# For more infomation:\n",
    "# https://matplotlib.org/stable/api/_as_gen/matplotlib.pyplot.hist.html\n",
    "n, bins, patches = plt.hist(x=X, # Dataset to be visualized\n",
    "                            bins='auto', # Automatically \n",
    "                            color='#0504aa', # We chose a specific color here\n",
    "                            alpha=0.7, # Transparency\n",
    "                            rwidth=0.85) # the bin width in display\n",
    "plt.grid(axis='y', alpha=0.75) # Set the distance between horizontal lines and display the horizontal lines\n",
    "plt.xlabel('SBP') # Label name in the x-axis\n",
    "plt.ylabel('Count') # Label name in the y-axis\n",
    "plt.title('Histogram of SBP')# Title name of the main plot\n",
    "plt.show() # Show the plot in Notebooks"
   ]
  },
  {
   "cell_type": "code",
   "execution_count": 62,
   "id": "juvenile-highlight",
   "metadata": {},
   "outputs": [
    {
     "data": {
      "image/png": "[encoded data removed]",
      "text/plain": [
       "<Figure size 432x288 with 1 Axes>"
      ]
     },
     "metadata": {},
     "output_type": "display_data"
    }
   ],
   "source": [
    "# Create a scatterplot to further visualice the relationship between\n",
    "# SBP and Age\n",
    "plt.style.use('seaborn-whitegrid') # Grid setting\n",
    "plt.scatter(X, Y, color='#0504aa') # Same as the histogram function above cells, but this one creates a scatter plot\n",
    "plt.xlabel('SBP')\n",
    "plt.ylabel('Age')\n",
    "plt.title('Scatter plot of SBP')\n",
    "plt.show()"
   ]
  },
  {
   "cell_type": "markdown",
   "id": "latter-arthritis",
   "metadata": {},
   "source": [
    "As you can see, there is a strongly positive correlation, so a linear regression should be able to capture this trend. Your job is to fit a linear regression and then predict the life expectancy, overlaying these predicted values on the plot to generate a regression line. You will also compute and print the $R^2$ score using sckit-learn's ```.score()``` method."
   ]
  },
  {
   "cell_type": "code",
   "execution_count": 63,
   "id": "alpine-assessment",
   "metadata": {},
   "outputs": [
    {
     "name": "stdout",
     "output_type": "stream",
     "text": [
      "intercept: -59.85538876763905\n",
      "slope: [0.75037069]\n"
     ]
    }
   ],
   "source": [
    "# Built linear regression model\n",
    "# Create model class. Currently the model has not been fitted yet.\n",
    "slr_model = LinearRegression()\n",
    "# Fit the model\n",
    "slr_model.fit(X, Y)\n",
    "# When we want to retrive some information in the fitted model\n",
    "# we can use model_name.variableToBeRetrived_\n",
    "intercept = slr_model.intercept_\n",
    "slope = slr_model.coef_\n",
    "print('intercept:', intercept)\n",
    "print('slope:', slope)\n",
    "# When we want to use the fitted model for prediction\n",
    "# use the model_name.predict(test_data) function\n",
    "y_pred = slr_model.predict(X)\n",
    "# print('predicted response:', y_pred, sep='\\n')\n",
    "y_pred = intercept + slope * X"
   ]
  },
  {
   "cell_type": "markdown",
   "id": "fatal-porter",
   "metadata": {},
   "source": [
    "### Choose an evaluation metric\n",
    "* We then need to compare these predictions with the actual result and measure them in some way.\n",
    "* This is where the selection of evaluation metric is important. For regression, we measure the distance between the predicted and actual answers in some way. The shorter the distance, the more correct the model is. \n",
    "* We cover three common metrics below:\n",
    "  * `Mean Absolute Error`: which provides a mean score for all the predicted versus actual values as an absolute value \n",
    "  * `Means Squared Error`: which provides a mean score for all the predicted versus actual values as a square of the absolute value\n",
    "  * `R2`: which we recommend you research as an exercise to grow your knowledge. WIkipedia and `sklearn` document are a great place to start!\n"
   ]
  },
  {
   "cell_type": "code",
   "execution_count": 64,
   "id": "rubber-holiday",
   "metadata": {},
   "outputs": [
    {
     "data": {
      "image/png": "[encoded data removed]",
      "text/plain": [
       "<Figure size 432x288 with 1 Axes>"
      ]
     },
     "metadata": {},
     "output_type": "display_data"
    }
   ],
   "source": [
    "# Step 5: visualize regression\n",
    "plt.xlabel('SBP', fontsize=15)\n",
    "plt.ylabel('Age', fontsize=15)\n",
    "plt.scatter(X, Y, color='#0504aa')\n",
    "plt.plot(X, intercept + slope*X, c = 'r', linewidth=5, alpha=.5, solid_capstyle='round')\n",
    "plt.show()"
   ]
  },
  {
   "cell_type": "markdown",
   "id": "brazilian-avenue",
   "metadata": {},
   "source": [
    "### Choose an evaluation metric\n",
    "* We then need to compare these predictions with the actual result and measure them in some way.\n",
    "* This is where the selection of evaluation metric is important. For regression, we measure the distance between the predicted and actual answers in some way. The shorter the distance, the more correct the model is. \n",
    "* We cover three common metrics below:\n",
    "  * `Mean Absolute Error`: which provides a mean score for all the predicted versus actual values as an absolute value \n",
    "  * `Means Squared Error`: which provides a mean score for all the predicted versus actual values as a square of the absolute value\n",
    "  * `R2`: the proportion of the variance in the dependent variable that is predictable from the independent variable(s)"
   ]
  },
  {
   "cell_type": "code",
   "execution_count": 65,
   "id": "beneficial-alfred",
   "metadata": {},
   "outputs": [
    {
     "name": "stdout",
     "output_type": "stream",
     "text": [
      "MSE: 69.67565944959195\n",
      "MAE: 7.093106571052525\n",
      "R squrare: 0.7122099509065329\n"
     ]
    }
   ],
   "source": [
    "# Obtain the value of MSE \n",
    "MSE = mean_squared_error(Y, y_pred)\n",
    "print('MSE:', MSE)\n",
    "# Obtain the value of MAE \n",
    "MAE = mean_absolute_error(Y, y_pred)\n",
    "print('MAE:', MAE)\n",
    "# Obtain the value of 𝑅² using .score()\n",
    "r_sq = slr_model.score(X, Y)\n",
    "slope = slr_model.coef_\n",
    "intercept = slr_model.intercept_\n",
    "print('R squrare:', r_sq)"
   ]
  },
  {
   "cell_type": "markdown",
   "id": "freelance-doctrine",
   "metadata": {},
   "source": [
    "## Part 1: Multiple linear regression\n",
    "\n",
    "In **Part 1**, you will work with a slightly more complicated clinical dataset that have been consolidated into one ```'CSV'``` file available in the data folder as ```'smoke.csv'```. Specifically, your goal will be to use this data to predict the effect of mother’s smoking during pregnancy (pack/day) and mother’s age at childbirth (years) on birth weight of their infants (oz).\n",
    "\n",
    "In this section, you will learn how to examin the basic statistics and visualize the relationship between independent variables and split the dataset into ```train``` and ```test``` sets."
   ]
  },
  {
   "cell_type": "code",
   "execution_count": 66,
   "id": "normal-journal",
   "metadata": {},
   "outputs": [
    {
     "data": {
      "text/html": [
       "<div>\n",
       "<style scoped>\n",
       "    .dataframe tbody tr th:only-of-type {\n",
       "        vertical-align: middle;\n",
       "    }\n",
       "\n",
       "    .dataframe tbody tr th {\n",
       "        vertical-align: top;\n",
       "    }\n",
       "\n",
       "    .dataframe thead th {\n",
       "        text-align: right;\n",
       "    }\n",
       "</style>\n",
       "<table border=\"1\" class=\"dataframe\">\n",
       "  <thead>\n",
       "    <tr style=\"text-align: right;\">\n",
       "      <th></th>\n",
       "      <th>ID</th>\n",
       "      <th>Mother_age</th>\n",
       "      <th>Mother_smoking</th>\n",
       "      <th>Birth_weight</th>\n",
       "    </tr>\n",
       "  </thead>\n",
       "  <tbody>\n",
       "    <tr>\n",
       "      <th>0</th>\n",
       "      <td>1</td>\n",
       "      <td>18</td>\n",
       "      <td>1.0</td>\n",
       "      <td>110</td>\n",
       "    </tr>\n",
       "    <tr>\n",
       "      <th>1</th>\n",
       "      <td>2</td>\n",
       "      <td>23</td>\n",
       "      <td>1.3</td>\n",
       "      <td>97</td>\n",
       "    </tr>\n",
       "    <tr>\n",
       "      <th>2</th>\n",
       "      <td>3</td>\n",
       "      <td>34</td>\n",
       "      <td>2.0</td>\n",
       "      <td>88</td>\n",
       "    </tr>\n",
       "    <tr>\n",
       "      <th>3</th>\n",
       "      <td>4</td>\n",
       "      <td>19</td>\n",
       "      <td>2.0</td>\n",
       "      <td>92</td>\n",
       "    </tr>\n",
       "    <tr>\n",
       "      <th>4</th>\n",
       "      <td>5</td>\n",
       "      <td>22</td>\n",
       "      <td>1.4</td>\n",
       "      <td>105</td>\n",
       "    </tr>\n",
       "  </tbody>\n",
       "</table>\n",
       "</div>"
      ],
      "text/plain": [
       "   ID  Mother_age  Mother_smoking  Birth_weight\n",
       "0   1          18             1.0           110\n",
       "1   2          23             1.3            97\n",
       "2   3          34             2.0            88\n",
       "3   4          19             2.0            92\n",
       "4   5          22             1.4           105"
      ]
     },
     "execution_count": 66,
     "metadata": {},
     "output_type": "execute_result"
    }
   ],
   "source": [
    "# Load data\n",
    "health_df_2 = pd.read_csv('./data/smoke.csv')\n",
    "# View data structure\n",
    "health_df_2.head()"
   ]
  },
  {
   "cell_type": "code",
   "execution_count": 67,
   "id": "virtual-edinburgh",
   "metadata": {},
   "outputs": [
    {
     "name": "stdout",
     "output_type": "stream",
     "text": [
      "             ID  Mother_age  Mother_smoking  Birth_weight\n",
      "count  20.00000   20.000000       20.000000      20.00000\n",
      "mean   10.50000   24.900000        1.365000     103.00000\n",
      "std     5.91608    6.290343        0.791584      27.25513\n",
      "min     1.00000   16.000000        0.200000      22.00000\n",
      "25%     5.75000   20.000000        0.775000      89.50000\n",
      "50%    10.50000   22.500000        1.300000     102.50000\n",
      "75%    15.25000   29.500000        2.000000     120.75000\n",
      "max    20.00000   38.000000        3.000000     142.00000\n",
      "<class 'pandas.core.frame.DataFrame'>\n",
      "RangeIndex: 20 entries, 0 to 19\n",
      "Data columns (total 4 columns):\n",
      " #   Column          Non-Null Count  Dtype  \n",
      "---  ------          --------------  -----  \n",
      " 0   ID              20 non-null     int64  \n",
      " 1   Mother_age      20 non-null     int64  \n",
      " 2   Mother_smoking  20 non-null     float64\n",
      " 3   Birth_weight    20 non-null     int64  \n",
      "dtypes: float64(1), int64(3)\n",
      "memory usage: 768.0 bytes\n",
      "None\n",
      "\n",
      " The shape of dataset 2 is: (20, 4)\n"
     ]
    }
   ],
   "source": [
    "# Pandas has a lot of functionality to assist with exploratory data analysis\n",
    "# .describe() provide summary statistics on all numeric columns\n",
    "print(health_df_2.describe())\n",
    "# Similarly, you can also use this function df_name.info()\n",
    "print(health_df_2.info())\n",
    "# we can also see the shape of the data\n",
    "print(\"\\n The shape of dataset 2 is:\", health_df_2.shape)"
   ]
  },
  {
   "cell_type": "code",
   "execution_count": 68,
   "id": "manufactured-newspaper",
   "metadata": {},
   "outputs": [],
   "source": [
    "# To fit the model into sk-learn build in models, we need to \n",
    "# preprocess the data format and dimension\n",
    "X = health_df_2[['Mother_age', 'Mother_smoking']].to_numpy()\n",
    "# You can try different ways to reshape this Y array\n",
    "Y = health_df_2['Birth_weight'].to_numpy().reshape(-1, 1)"
   ]
  },
  {
   "cell_type": "code",
   "execution_count": 69,
   "id": "illegal-immunology",
   "metadata": {},
   "outputs": [],
   "source": [
    "# Id is not needed in training/prediction process\n",
    "# To simplify the dataset you can drop this column\n",
    "df_2 = health_df_2.drop('ID', axis=1)"
   ]
  },
  {
   "cell_type": "code",
   "execution_count": 70,
   "id": "superior-subscription",
   "metadata": {},
   "outputs": [
    {
     "data": {
      "image/png": "[encoded data removed]",
      "text/plain": [
       "<Figure size 540x540 with 12 Axes>"
      ]
     },
     "metadata": {},
     "output_type": "display_data"
    }
   ],
   "source": [
    "# We can plot the pairplot of variables\n",
    "# Set grid\n",
    "style.use('seaborn-whitegrid')\n",
    "# Set figure size\n",
    "plt.rcParams['figure.figsize'] = (20,10)\n",
    "# Specify dataset to used\n",
    "sns.pairplot(df_2)\n",
    "# You can also save the plot\n",
    "plt.savefig('pairplor_health_df_2.png')\n",
    "# Display the generated plot\n",
    "plt.show()"
   ]
  },
  {
   "cell_type": "markdown",
   "id": "pointed-capitol",
   "metadata": {},
   "source": [
    "### Train/test split for regression\n",
    "Train and test sets are vital to ensure that your supervised learning model is able to generalize well to new data. This was true for classification models, and is equally true for linear regression models."
   ]
  },
  {
   "cell_type": "code",
   "execution_count": 71,
   "id": "needed-bubble",
   "metadata": {},
   "outputs": [],
   "source": [
    "# Split the data set into trianing and validation\n",
    "X = df_2.drop(\"Birth_weight\", axis = 1)\n",
    "Y = df_2[\"Birth_weight\"]\n",
    "# Set random seed here so that you will get the same result as solution\n",
    "X_train, X_test, y_train, y_test = train_test_split(X, Y, test_size = 0.2, random_state = 0)"
   ]
  },
  {
   "cell_type": "code",
   "execution_count": 72,
   "id": "gross-superintendent",
   "metadata": {},
   "outputs": [],
   "source": [
    "# Since Mother smoking has a strong negative relationship\n",
    "# with birth weight, we test a slm first\n",
    "slr = LinearRegression()\n",
    "# Dimension purpose\n",
    "slr.fit(X_train.to_numpy(), y_train) \n",
    "# Call model prediction\n",
    "y_pred = slr.predict(X_test.to_numpy())"
   ]
  },
  {
   "cell_type": "code",
   "execution_count": 73,
   "id": "transsexual-words",
   "metadata": {},
   "outputs": [
    {
     "name": "stdout",
     "output_type": "stream",
     "text": [
      "\u001b[1mR-Squared :\u001b[0m 0.7866904643909651\n",
      "\u001b[1mMSE:\u001b[0m 95.70932225857881\n",
      "\u001b[1mMAE:\u001b[0m 9.058391515051955\n"
     ]
    }
   ],
   "source": [
    "# Evaluate slr model\n",
    "# Obtain the value of R square\n",
    "print(cl(\"R-Squared :\", attrs = [\"bold\"]),\n",
    "      slr.score(X_test.to_numpy(),\n",
    "                y_test))\n",
    "# Obtain the value of MSE \n",
    "MSE = mean_squared_error(y_test, y_pred)\n",
    "print(cl(\"MSE:\", attrs = [\"bold\"]), MSE)\n",
    "# Obtain the value of MAE \n",
    "MAE = mean_absolute_error(y_test, y_pred)\n",
    "print(cl(\"MAE:\", attrs = [\"bold\"]), MAE)"
   ]
  },
  {
   "cell_type": "markdown",
   "id": "careful-reverse",
   "metadata": {},
   "source": [
    "## Part 2: Binary Logistic Regression\n",
    "This part is modified from Harvard CS109A's lab 6 notebook:\n",
    "https://harvard-iacs.github.io/2018-CS109A/labs/lab-6/student/"
   ]
  },
  {
   "cell_type": "markdown",
   "id": "alert-applicant",
   "metadata": {},
   "source": [
    "Linear regression is usually a good baseline model, but since the outcome we're trying to predict only takes values 0 and 1 we'll want to use logistic regression instead of basic linear regression.\n",
    "\n",
    "In this section, you will use the clinical dataset from Ille-et-Vilaine Study of Oesophageal Cancer\n",
    "- Cases: 200 men with oesophageal cancer (OC)\n",
    "- Controls: 775 OC-free men randomly drawn from the same regions.\n",
    "- Primary Interest: To assess associations between alcohol and tobacco consumptions and oesophageal cancer incidence.\n"
   ]
  },
  {
   "cell_type": "code",
   "execution_count": 74,
   "id": "intimate-thickness",
   "metadata": {},
   "outputs": [],
   "source": [
    "# Load model package\n",
    "from sklearn.linear_model import LogisticRegression\n",
    "# Evaluation metrics\n",
    "from sklearn.metrics import roc_auc_score\n",
    "from sklearn.metrics import precision_recall_curve\n",
    "from sklearn.metrics import auc\n",
    "from sklearn.metrics import accuracy_score"
   ]
  },
  {
   "cell_type": "code",
   "execution_count": 75,
   "id": "unique-excitement",
   "metadata": {},
   "outputs": [
    {
     "data": {
      "text/html": [
       "<div>\n",
       "<style scoped>\n",
       "    .dataframe tbody tr th:only-of-type {\n",
       "        vertical-align: middle;\n",
       "    }\n",
       "\n",
       "    .dataframe tbody tr th {\n",
       "        vertical-align: top;\n",
       "    }\n",
       "\n",
       "    .dataframe thead th {\n",
       "        text-align: right;\n",
       "    }\n",
       "</style>\n",
       "<table border=\"1\" class=\"dataframe\">\n",
       "  <thead>\n",
       "    <tr style=\"text-align: right;\">\n",
       "      <th></th>\n",
       "      <th>alcohol</th>\n",
       "      <th>tobacco</th>\n",
       "      <th>case</th>\n",
       "      <th>freq</th>\n",
       "    </tr>\n",
       "    <tr>\n",
       "      <th>agegrp</th>\n",
       "      <th></th>\n",
       "      <th></th>\n",
       "      <th></th>\n",
       "      <th></th>\n",
       "    </tr>\n",
       "  </thead>\n",
       "  <tbody>\n",
       "    <tr>\n",
       "      <th>1</th>\n",
       "      <td>0</td>\n",
       "      <td>1</td>\n",
       "      <td>0</td>\n",
       "      <td>40</td>\n",
       "    </tr>\n",
       "    <tr>\n",
       "      <th>1</th>\n",
       "      <td>0</td>\n",
       "      <td>2</td>\n",
       "      <td>0</td>\n",
       "      <td>10</td>\n",
       "    </tr>\n",
       "    <tr>\n",
       "      <th>1</th>\n",
       "      <td>0</td>\n",
       "      <td>3</td>\n",
       "      <td>0</td>\n",
       "      <td>6</td>\n",
       "    </tr>\n",
       "    <tr>\n",
       "      <th>1</th>\n",
       "      <td>0</td>\n",
       "      <td>4</td>\n",
       "      <td>0</td>\n",
       "      <td>5</td>\n",
       "    </tr>\n",
       "    <tr>\n",
       "      <th>1</th>\n",
       "      <td>0</td>\n",
       "      <td>1</td>\n",
       "      <td>1</td>\n",
       "      <td>0</td>\n",
       "    </tr>\n",
       "  </tbody>\n",
       "</table>\n",
       "</div>"
      ],
      "text/plain": [
       "        alcohol  tobacco  case  freq\n",
       "agegrp                              \n",
       "1             0        1     0    40\n",
       "1             0        2     0    10\n",
       "1             0        3     0     6\n",
       "1             0        4     0     5\n",
       "1             0        1     1     0"
      ]
     },
     "execution_count": 75,
     "metadata": {},
     "output_type": "execute_result"
    }
   ],
   "source": [
    "# Read-in and checking\n",
    "oesophageal_df = pd.read_csv(\"data/oesophageal.csv\", index_col=0)\n",
    "# Please examine the first 6 rows of the dataset use method in previous \n",
    "# data checking process\n",
    "oesophageal_df.head() # Leave this line blank for exercise"
   ]
  },
  {
   "cell_type": "code",
   "execution_count": 76,
   "id": "through-costs",
   "metadata": {},
   "outputs": [
    {
     "data": {
      "text/html": [
       "<div>\n",
       "<style scoped>\n",
       "    .dataframe tbody tr th:only-of-type {\n",
       "        vertical-align: middle;\n",
       "    }\n",
       "\n",
       "    .dataframe tbody tr th {\n",
       "        vertical-align: top;\n",
       "    }\n",
       "\n",
       "    .dataframe thead th {\n",
       "        text-align: right;\n",
       "    }\n",
       "</style>\n",
       "<table border=\"1\" class=\"dataframe\">\n",
       "  <thead>\n",
       "    <tr style=\"text-align: right;\">\n",
       "      <th></th>\n",
       "      <th>alcohol</th>\n",
       "      <th>tobacco</th>\n",
       "      <th>case</th>\n",
       "      <th>freq</th>\n",
       "    </tr>\n",
       "  </thead>\n",
       "  <tbody>\n",
       "    <tr>\n",
       "      <th>count</th>\n",
       "      <td>92.00000</td>\n",
       "      <td>92.000000</td>\n",
       "      <td>92.00000</td>\n",
       "      <td>92.000000</td>\n",
       "    </tr>\n",
       "    <tr>\n",
       "      <th>mean</th>\n",
       "      <td>0.50000</td>\n",
       "      <td>2.456522</td>\n",
       "      <td>0.50000</td>\n",
       "      <td>8.369565</td>\n",
       "    </tr>\n",
       "    <tr>\n",
       "      <th>std</th>\n",
       "      <td>0.50274</td>\n",
       "      <td>1.123310</td>\n",
       "      <td>0.50274</td>\n",
       "      <td>12.015299</td>\n",
       "    </tr>\n",
       "    <tr>\n",
       "      <th>min</th>\n",
       "      <td>0.00000</td>\n",
       "      <td>1.000000</td>\n",
       "      <td>0.00000</td>\n",
       "      <td>0.000000</td>\n",
       "    </tr>\n",
       "    <tr>\n",
       "      <th>25%</th>\n",
       "      <td>0.00000</td>\n",
       "      <td>1.000000</td>\n",
       "      <td>0.00000</td>\n",
       "      <td>1.000000</td>\n",
       "    </tr>\n",
       "    <tr>\n",
       "      <th>50%</th>\n",
       "      <td>0.50000</td>\n",
       "      <td>2.000000</td>\n",
       "      <td>0.50000</td>\n",
       "      <td>4.000000</td>\n",
       "    </tr>\n",
       "    <tr>\n",
       "      <th>75%</th>\n",
       "      <td>1.00000</td>\n",
       "      <td>3.000000</td>\n",
       "      <td>1.00000</td>\n",
       "      <td>10.000000</td>\n",
       "    </tr>\n",
       "    <tr>\n",
       "      <th>max</th>\n",
       "      <td>1.00000</td>\n",
       "      <td>4.000000</td>\n",
       "      <td>1.00000</td>\n",
       "      <td>60.000000</td>\n",
       "    </tr>\n",
       "  </tbody>\n",
       "</table>\n",
       "</div>"
      ],
      "text/plain": [
       "        alcohol    tobacco      case       freq\n",
       "count  92.00000  92.000000  92.00000  92.000000\n",
       "mean    0.50000   2.456522   0.50000   8.369565\n",
       "std     0.50274   1.123310   0.50274  12.015299\n",
       "min     0.00000   1.000000   0.00000   0.000000\n",
       "25%     0.00000   1.000000   0.00000   1.000000\n",
       "50%     0.50000   2.000000   0.50000   4.000000\n",
       "75%     1.00000   3.000000   1.00000  10.000000\n",
       "max     1.00000   4.000000   1.00000  60.000000"
      ]
     },
     "execution_count": 76,
     "metadata": {},
     "output_type": "execute_result"
    }
   ],
   "source": [
    "# Please view the dataset summary matrix with the method in previous \n",
    "# data checking process\n",
    "oesophageal_df.describe() # Leave this line blank for exercise"
   ]
  },
  {
   "cell_type": "code",
   "execution_count": 77,
   "id": "pressed-novelty",
   "metadata": {},
   "outputs": [
    {
     "data": {
      "text/html": [
       "<div>\n",
       "<style scoped>\n",
       "    .dataframe tbody tr th:only-of-type {\n",
       "        vertical-align: middle;\n",
       "    }\n",
       "\n",
       "    .dataframe tbody tr th {\n",
       "        vertical-align: top;\n",
       "    }\n",
       "\n",
       "    .dataframe thead th {\n",
       "        text-align: right;\n",
       "    }\n",
       "</style>\n",
       "<table border=\"1\" class=\"dataframe\">\n",
       "  <thead>\n",
       "    <tr style=\"text-align: right;\">\n",
       "      <th></th>\n",
       "      <th>alcohol</th>\n",
       "      <th>tobacco</th>\n",
       "      <th>freq</th>\n",
       "    </tr>\n",
       "    <tr>\n",
       "      <th>agegrp</th>\n",
       "      <th></th>\n",
       "      <th></th>\n",
       "      <th></th>\n",
       "    </tr>\n",
       "  </thead>\n",
       "  <tbody>\n",
       "    <tr>\n",
       "      <th>2</th>\n",
       "      <td>1</td>\n",
       "      <td>3</td>\n",
       "      <td>1</td>\n",
       "    </tr>\n",
       "    <tr>\n",
       "      <th>3</th>\n",
       "      <td>1</td>\n",
       "      <td>2</td>\n",
       "      <td>17</td>\n",
       "    </tr>\n",
       "    <tr>\n",
       "      <th>4</th>\n",
       "      <td>0</td>\n",
       "      <td>3</td>\n",
       "      <td>3</td>\n",
       "    </tr>\n",
       "    <tr>\n",
       "      <th>1</th>\n",
       "      <td>0</td>\n",
       "      <td>3</td>\n",
       "      <td>0</td>\n",
       "    </tr>\n",
       "    <tr>\n",
       "      <th>3</th>\n",
       "      <td>1</td>\n",
       "      <td>4</td>\n",
       "      <td>2</td>\n",
       "    </tr>\n",
       "  </tbody>\n",
       "</table>\n",
       "</div>"
      ],
      "text/plain": [
       "        alcohol  tobacco  freq\n",
       "agegrp                        \n",
       "2             1        3     1\n",
       "3             1        2    17\n",
       "4             0        3     3\n",
       "1             0        3     0\n",
       "3             1        4     2"
      ]
     },
     "execution_count": 77,
     "metadata": {},
     "output_type": "execute_result"
    }
   ],
   "source": [
    "# Split the data set into trianing and validation\n",
    "# Time to practise! Please separate the read-in data\n",
    "# into training and testing sets\n",
    "X = oesophageal_df.drop(\"case\", axis = 1) # Leave this line blank for exercise\n",
    "Y = oesophageal_df[\"case\"] # Leave this line blank for exercise\n",
    "X_train, X_test, y_train, y_test = train_test_split(X, Y, test_size = 0.2, random_state = 0) # Leave this line blank for exercise\n",
    "# Double check whether you have successfully \n",
    "# separate training and testing sets\n",
    "X_train.head()"
   ]
  },
  {
   "cell_type": "code",
   "execution_count": 78,
   "id": "overhead-papua",
   "metadata": {},
   "outputs": [
    {
     "data": {
      "image/png": "[encoded data removed]",
      "text/plain": [
       "<Figure size 540x540 with 12 Axes>"
      ]
     },
     "metadata": {},
     "output_type": "display_data"
    }
   ],
   "source": [
    "# Visualize your training data\n",
    "# Leave following cell blank for exercise\n",
    "style.use('seaborn-whitegrid')\n",
    "plt.rcParams['figure.figsize'] = (20,10)\n",
    "sns.pairplot(X_train)\n",
    "plt.savefig('pairplor_oesophageal_df_X_train.png')\n",
    "plt.show()"
   ]
  },
  {
   "cell_type": "markdown",
   "id": "light-method",
   "metadata": {},
   "source": [
    "Model building part\n",
    "\n",
    "We'll begin with statsmodels, because this package allow us to compute confidence intervals and check that coefficients make sense or not."
   ]
  },
  {
   "cell_type": "code",
   "execution_count": 79,
   "id": "deluxe-grove",
   "metadata": {},
   "outputs": [],
   "source": [
    "#‘lbfgs’ solver handles multinomial loss in multiclass problems \n",
    "logreg_model = LogisticRegression(solver='lbfgs', class_weight=\"balanced\").fit(X_train, y_train)"
   ]
  },
  {
   "cell_type": "code",
   "execution_count": 80,
   "id": "closing-philosophy",
   "metadata": {},
   "outputs": [
    {
     "name": "stdout",
     "output_type": "stream",
     "text": [
      "Training Set Score: 0.821917808219178\n",
      "Test Set Score: 0.6842105263157895\n"
     ]
    }
   ],
   "source": [
    "y_preds_train = logreg_model.predict(X_train)\n",
    "y_preds_test = logreg_model.predict(X_test)\n",
    "\n",
    "full_logreg_score_train = accuracy_score(y_train, y_preds_train)\n",
    "full_logreg_score_test = accuracy_score(y_test, y_preds_test)\n",
    "\n",
    "# Evaluation\n",
    "print('Training Set Score: {}'.format(full_logreg_score_train))\n",
    "print('Test Set Score: {}'.format(full_logreg_score_test))"
   ]
  },
  {
   "cell_type": "code",
   "execution_count": 81,
   "id": "headed-assets",
   "metadata": {},
   "outputs": [
    {
     "data": {
      "image/png": "[encoded data removed]",
      "text/plain": [
       "<Figure size 576x432 with 1 Axes>"
      ]
     },
     "metadata": {},
     "output_type": "display_data"
    }
   ],
   "source": [
    "# probs_y is a 2-D array of probability of being labeled as\n",
    "# 0 (first column of array) vs 1 (2nd column in array)\n",
    "probs_y = logreg_model.predict_proba(X_test)\n",
    "# Retrieve probability of being 1(in second column of probs_y)\n",
    "precision, recall, thresholds = precision_recall_curve(y_test, probs_y[:, 1]) \n",
    "# Similar as plots in above sections\n",
    "plt.rcParams['figure.figsize'] = (8,6)\n",
    "plt.title(\"Precision-Recall vs Threshold Chart\")\n",
    "# Plot dash lines\n",
    "plt.plot(thresholds, precision[: -1], \"b--\", label=\"Precision\")\n",
    "plt.plot(thresholds, recall[: -1], \"r--\", label=\"Recall\")\n",
    "plt.ylabel(\"Precision, Recall\")\n",
    "plt.xlabel(\"Threshold\")\n",
    "# Specify legend location and size\n",
    "plt.legend(loc=\"lower left\",fontsize = \"large\")\n",
    "plt.ylim([0,1])\n",
    "plt.show()"
   ]
  },
  {
   "cell_type": "code",
   "execution_count": 82,
   "id": "hungry-gambling",
   "metadata": {},
   "outputs": [
    {
     "name": "stdout",
     "output_type": "stream",
     "text": [
      "AUC: 0.8687104562104562\n"
     ]
    },
    {
     "data": {
      "image/png": "[encoded data removed]",
      "text/plain": [
       "<Figure size 576x432 with 1 Axes>"
      ]
     },
     "metadata": {},
     "output_type": "display_data"
    }
   ],
   "source": [
    "F1 = 2 * (precision * recall) / (precision + recall)\n",
    "pr_auc = auc(recall, precision)\n",
    "print(\"AUC:\", pr_auc)\n",
    "# Similar as plots in above sections\n",
    "# plt.title(\"AUC vs Threshold Chart\")\n",
    "plt.rcParams['figure.figsize'] = (8,6)\n",
    "plt.title(\"F1 vs Threshold Chart\")\n",
    "# Plot lines\n",
    "plt.plot(thresholds, F1[:-1], label=\"F1\")\n",
    "plt.ylabel(\"F1\")\n",
    "plt.xlabel(\"Threshold\")\n",
    "plt.legend(loc=\"lower left\")\n",
    "plt.ylim([0,1])\n",
    "plt.show()"
   ]
  },
  {
   "cell_type": "markdown",
   "id": "temporal-examination",
   "metadata": {},
   "source": [
    "As can be observed from the above matrix\n",
    "TP = True Positives = 7 (upper left)\n",
    "\n",
    "TN = True Negatives = 6 (lower right)\n",
    "\n",
    "FP = False Positives = 4 (lower left)\n",
    "\n",
    "FN = False Negatives = 2 (upperight)\n",
    "\n",
    "You can then get the Accuracy using:\n",
    "\n",
    "Accuracy = (TP+TN)/Total = (7+6)/19 = 1\n",
    "\n",
    "The accuracy is therefore 68% for the test set."
   ]
  },
  {
   "cell_type": "code",
   "execution_count": 83,
   "id": "given-interference",
   "metadata": {},
   "outputs": [
    {
     "data": {
      "text/plain": [
       "0.6842105263157895"
      ]
     },
     "execution_count": 83,
     "metadata": {},
     "output_type": "execute_result"
    }
   ],
   "source": [
    "# Another way to check the accuracy is shown below, \n",
    "# using accuracy_score() method.\n",
    "accuracy_score(y_test, y_preds_test) "
   ]
  },
  {
   "cell_type": "markdown",
   "id": "continent-belgium",
   "metadata": {},
   "source": [
    "## Part 3: Ridge Regression\n",
    "Ridge regression is a regression technique that is quite similar to unadorned least squares linear regression: simply adding an $\\ell_2$ **penalty** on the parameters $\\beta$ to the objective function for linear regression yields the objective function for ridge regression.\n",
    "\n",
    "Our goal is to find an assignment to $\\beta$ that minimizes the function\n",
    "\n",
    "$$f(\\beta) = \\|X\\beta - Y\\|_2^2 + \\lambda \\|\\beta\\|_2^2,$$\n",
    "\n",
    "where $\\lambda$ is a hyperparameter and, as usual, $X$ is the training data and $Y$ the observations. In practice, we tune $\\lambda$ until we find a model that generalizes well to the test data.\n",
    "\n",
    "In this section, you will work with Gapminder data that we have consolidated into one CSV file available in the workspace as 'gapminder.csv'. Specifically, your goal will be to use this data to predict the life expectancy in a given country based on features such as the country's GDP, fertility rate, and population. As in Chapter 1, the dataset has been preproces"
   ]
  },
  {
   "cell_type": "code",
   "execution_count": 84,
   "id": "logical-right",
   "metadata": {},
   "outputs": [
    {
     "data": {
      "text/html": [
       "<img src=\"https://newonlinecourses.science.psu.edu/stat857/sites/onlinecourses.science.psu.edu.stat857/files/lesson04/ridge_regression_geomteric/index.png\"/>"
      ],
      "text/plain": [
       "<IPython.core.display.Image object>"
      ]
     },
     "execution_count": 84,
     "metadata": {},
     "output_type": "execute_result"
    }
   ],
   "source": [
    "from IPython.display import Image\n",
    "from IPython.core.display import HTML \n",
    "Image(url='https://newonlinecourses.science.psu.edu/stat857/sites/onlinecourses.science.psu.edu.stat857/files/lesson04/ridge_regression_geomteric/index.png')"
   ]
  },
  {
   "cell_type": "code",
   "execution_count": 85,
   "id": "worth-trunk",
   "metadata": {},
   "outputs": [],
   "source": [
    "# For k-fold cv\n",
    "from sklearn.model_selection import cross_val_score\n",
    "from sklearn.model_selection import KFold\n",
    "# Load model\n",
    "from sklearn.linear_model import Ridge\n",
    "# Cross validation\n",
    "from sklearn.model_selection import cross_validate"
   ]
  },
  {
   "cell_type": "code",
   "execution_count": 86,
   "id": "invalid-disclosure",
   "metadata": {},
   "outputs": [],
   "source": [
    "# Load dataset\n",
    "gm_df = pd.read_csv('./data/gm_2008_region.csv')"
   ]
  },
  {
   "cell_type": "code",
   "execution_count": 87,
   "id": "continent-algeria",
   "metadata": {},
   "outputs": [
    {
     "data": {
      "text/html": [
       "<div>\n",
       "<style scoped>\n",
       "    .dataframe tbody tr th:only-of-type {\n",
       "        vertical-align: middle;\n",
       "    }\n",
       "\n",
       "    .dataframe tbody tr th {\n",
       "        vertical-align: top;\n",
       "    }\n",
       "\n",
       "    .dataframe thead th {\n",
       "        text-align: right;\n",
       "    }\n",
       "</style>\n",
       "<table border=\"1\" class=\"dataframe\">\n",
       "  <thead>\n",
       "    <tr style=\"text-align: right;\">\n",
       "      <th></th>\n",
       "      <th>population</th>\n",
       "      <th>fertility</th>\n",
       "      <th>HIV</th>\n",
       "      <th>CO2</th>\n",
       "      <th>BMI_male</th>\n",
       "      <th>GDP</th>\n",
       "      <th>BMI_female</th>\n",
       "      <th>life</th>\n",
       "      <th>child_mortality</th>\n",
       "      <th>Region</th>\n",
       "    </tr>\n",
       "  </thead>\n",
       "  <tbody>\n",
       "    <tr>\n",
       "      <th>0</th>\n",
       "      <td>34811059.0</td>\n",
       "      <td>2.73</td>\n",
       "      <td>0.1</td>\n",
       "      <td>3.328945</td>\n",
       "      <td>24.59620</td>\n",
       "      <td>12314.0</td>\n",
       "      <td>129.9049</td>\n",
       "      <td>75.3</td>\n",
       "      <td>29.5</td>\n",
       "      <td>Middle East &amp; North Africa</td>\n",
       "    </tr>\n",
       "    <tr>\n",
       "      <th>1</th>\n",
       "      <td>19842251.0</td>\n",
       "      <td>6.43</td>\n",
       "      <td>2.0</td>\n",
       "      <td>1.474353</td>\n",
       "      <td>22.25083</td>\n",
       "      <td>7103.0</td>\n",
       "      <td>130.1247</td>\n",
       "      <td>58.3</td>\n",
       "      <td>192.0</td>\n",
       "      <td>Sub-Saharan Africa</td>\n",
       "    </tr>\n",
       "    <tr>\n",
       "      <th>2</th>\n",
       "      <td>40381860.0</td>\n",
       "      <td>2.24</td>\n",
       "      <td>0.5</td>\n",
       "      <td>4.785170</td>\n",
       "      <td>27.50170</td>\n",
       "      <td>14646.0</td>\n",
       "      <td>118.8915</td>\n",
       "      <td>75.5</td>\n",
       "      <td>15.4</td>\n",
       "      <td>America</td>\n",
       "    </tr>\n",
       "    <tr>\n",
       "      <th>3</th>\n",
       "      <td>2975029.0</td>\n",
       "      <td>1.40</td>\n",
       "      <td>0.1</td>\n",
       "      <td>1.804106</td>\n",
       "      <td>25.35542</td>\n",
       "      <td>7383.0</td>\n",
       "      <td>132.8108</td>\n",
       "      <td>72.5</td>\n",
       "      <td>20.0</td>\n",
       "      <td>Europe &amp; Central Asia</td>\n",
       "    </tr>\n",
       "    <tr>\n",
       "      <th>4</th>\n",
       "      <td>21370348.0</td>\n",
       "      <td>1.96</td>\n",
       "      <td>0.1</td>\n",
       "      <td>18.016313</td>\n",
       "      <td>27.56373</td>\n",
       "      <td>41312.0</td>\n",
       "      <td>117.3755</td>\n",
       "      <td>81.5</td>\n",
       "      <td>5.2</td>\n",
       "      <td>East Asia &amp; Pacific</td>\n",
       "    </tr>\n",
       "  </tbody>\n",
       "</table>\n",
       "</div>"
      ],
      "text/plain": [
       "   population  fertility  HIV        CO2  BMI_male      GDP  BMI_female  life  \\\n",
       "0  34811059.0       2.73  0.1   3.328945  24.59620  12314.0    129.9049  75.3   \n",
       "1  19842251.0       6.43  2.0   1.474353  22.25083   7103.0    130.1247  58.3   \n",
       "2  40381860.0       2.24  0.5   4.785170  27.50170  14646.0    118.8915  75.5   \n",
       "3   2975029.0       1.40  0.1   1.804106  25.35542   7383.0    132.8108  72.5   \n",
       "4  21370348.0       1.96  0.1  18.016313  27.56373  41312.0    117.3755  81.5   \n",
       "\n",
       "   child_mortality                      Region  \n",
       "0             29.5  Middle East & North Africa  \n",
       "1            192.0          Sub-Saharan Africa  \n",
       "2             15.4                     America  \n",
       "3             20.0       Europe & Central Asia  \n",
       "4              5.2         East Asia & Pacific  "
      ]
     },
     "execution_count": 87,
     "metadata": {},
     "output_type": "execute_result"
    }
   ],
   "source": [
    "gm_df.head()"
   ]
  },
  {
   "cell_type": "markdown",
   "id": "military-excerpt",
   "metadata": {},
   "source": [
    "## Clean data\n",
    "The dataset may contain a few unknown values. If that is the case, we can use dataset.dropna() function to do data cleaning."
   ]
  },
  {
   "cell_type": "code",
   "execution_count": 88,
   "id": "floppy-example",
   "metadata": {},
   "outputs": [
    {
     "data": {
      "text/plain": [
       "population         0\n",
       "fertility          0\n",
       "HIV                0\n",
       "CO2                0\n",
       "BMI_male           0\n",
       "GDP                0\n",
       "BMI_female         0\n",
       "life               0\n",
       "child_mortality    0\n",
       "dtype: int64"
      ]
     },
     "execution_count": 88,
     "metadata": {},
     "output_type": "execute_result"
    }
   ],
   "source": [
    "gm_df.drop(labels=['Region'], axis='columns', inplace=True)\n",
    "gm_df.isna().sum()"
   ]
  },
  {
   "cell_type": "markdown",
   "id": "ongoing-experience",
   "metadata": {},
   "source": [
    "To create a cleaner dataset, we will drop some columns and remove NaN values manually"
   ]
  },
  {
   "cell_type": "code",
   "execution_count": 89,
   "id": "careful-technical",
   "metadata": {},
   "outputs": [],
   "source": [
    "# We create a subdataset based on the previous one\n",
    "# Split the data set into trianing and validation\n",
    "X = gm_df.drop('life', axis='columns').values\n",
    "y = gm_df['life'].values"
   ]
  },
  {
   "cell_type": "markdown",
   "id": "processed-priest",
   "metadata": {},
   "source": [
    "A test set should still be held out for final evaluation, but the validation set is no longer needed when doing CV. In the basic approach, called k-fold CV, the training set is split into k smaller sets (other approaches are described below, but generally follow the same principles). The following procedure is followed for each of the k “folds”:\n",
    "\n",
    "- A model is trained using  of the folds as training data;\n",
    "\n",
    "- the resulting model is validated on the remaining part of the data (i.e., it is used as a test set to compute a performance measure such as accuracy).\n",
    "\n",
    "The performance measure reported by k-fold cross-validation is then the average of the values computed in the loop. This approach can be computationally expensive, but does not waste too much data (as is the case when fixing an arbitrary validation set), which is a major advantage in problems such as inverse inference where the number of samples is very small.\n",
    "\n",
    "Reference: https://scikit-learn.org/stable/modules/cross_validation.html"
   ]
  },
  {
   "cell_type": "code",
   "execution_count": 90,
   "id": "crucial-noise",
   "metadata": {},
   "outputs": [
    {
     "data": {
      "text/html": [
       "<img src=\"https://scikit-learn.org/stable/_images/grid_search_workflow.png\"/>"
      ],
      "text/plain": [
       "<IPython.core.display.Image object>"
      ]
     },
     "execution_count": 90,
     "metadata": {},
     "output_type": "execute_result"
    }
   ],
   "source": [
    "Image(url='https://scikit-learn.org/stable/_images/grid_search_workflow.png')"
   ]
  },
  {
   "cell_type": "code",
   "execution_count": 91,
   "id": "flexible-expense",
   "metadata": {},
   "outputs": [
    {
     "data": {
      "text/html": [
       "<img src=\"https://scikit-learn.org/stable/_images/grid_search_cross_validation.png\"/>"
      ],
      "text/plain": [
       "<IPython.core.display.Image object>"
      ]
     },
     "execution_count": 91,
     "metadata": {},
     "output_type": "execute_result"
    }
   ],
   "source": [
    "Image(url='https://scikit-learn.org/stable/_images/grid_search_cross_validation.png')"
   ]
  },
  {
   "cell_type": "code",
   "execution_count": 92,
   "id": "saving-debate",
   "metadata": {},
   "outputs": [],
   "source": [
    "# we create this function to plot alpha with the error range\n",
    "def display_plot(cv_scores, cv_scores_std, alpha_space):\n",
    "    fig = plt.figure()\n",
    "    ax = fig.add_subplot(1,1,1)\n",
    "    ax.plot(alpha_space, cv_scores)\n",
    "\n",
    "    std_error = cv_scores_std / np.sqrt(10)\n",
    "\n",
    "    ax.fill_between(alpha_space, cv_scores + std_error, cv_scores - std_error, alpha=0.2)\n",
    "    ax.set_ylabel('CV Score +/- Std Error')\n",
    "    ax.set_xlabel('Alpha')\n",
    "    ax.axhline(np.max(cv_scores), linestyle='--', color='.5')\n",
    "    ax.set_xlim([alpha_space[0], alpha_space[-1]])\n",
    "    ax.set_xscale('log')\n",
    "    ax.set_title('CV Score and std error region vs Alpha')"
   ]
  },
  {
   "cell_type": "code",
   "execution_count": 93,
   "id": "communist-warren",
   "metadata": {},
   "outputs": [
    {
     "data": {
      "image/png": "[encoded data removed]",
      "text/plain": [
       "<Figure size 576x432 with 1 Axes>"
      ]
     },
     "metadata": {},
     "output_type": "display_data"
    }
   ],
   "source": [
    "# Try to test different range of alpha \n",
    "# alpha_space = [1e-3, 1e-2, 3e-2, 5e-2, 1e-1, 1, 3, 5, 10]\n",
    "# Setup the array of alphas and lists to store scores\n",
    "alpha_space = np.logspace(-4, 0, 50)\n",
    "ridge_scores = []\n",
    "ridge_scores_std = []\n",
    "\n",
    "# Create a ridge regressor: ridge\n",
    "ridge = Ridge(normalize=True)\n",
    "\n",
    "# Compute scores over range of alphas\n",
    "for alpha in alpha_space:\n",
    "    \n",
    "    # Specify the alpha value to use: ridge.alhpa\n",
    "    ridge.alpha = alpha\n",
    "    \n",
    "    # Perform 10-fold CV: ridge_cv_scores\n",
    "    ridge_cv_scores = cross_val_score(ridge, X, y, cv=10)\n",
    "    \n",
    "    # Append the mean of ridge_cv_scores to ridge_scores\n",
    "    ridge_scores.append(np.mean(ridge_cv_scores))\n",
    "    \n",
    "    # Append the std of ridge_cv_scores to ridge_scores_std\n",
    "    ridge_scores_std.append(np.std(ridge_cv_scores))\n",
    "    \n",
    "# Display the plot\n",
    "display_plot(ridge_scores, ridge_scores_std, alpha_space)"
   ]
  },
  {
   "cell_type": "code",
   "execution_count": 94,
   "id": "afraid-slave",
   "metadata": {},
   "outputs": [],
   "source": [
    "# It seems like alpha = 0.5-0.9 work well for the ridge regression model\n",
    "# So let's try with some different value of alphas\n",
    "alpha = 0.6"
   ]
  },
  {
   "cell_type": "code",
   "execution_count": 95,
   "id": "professional-treasury",
   "metadata": {},
   "outputs": [],
   "source": [
    "# Split the data into training and test set\n",
    "X_train, X_test, y_train, y_test = train_test_split(X, y, test_size = 0.3, random_state = 0) "
   ]
  },
  {
   "cell_type": "code",
   "execution_count": 96,
   "id": "technical-reset",
   "metadata": {},
   "outputs": [
    {
     "data": {
      "text/plain": [
       "Ridge(alpha=0.6, normalize=True)"
      ]
     },
     "execution_count": 96,
     "metadata": {},
     "output_type": "execute_result"
    }
   ],
   "source": [
    "# Define ridge regression model\n",
    "ridge_model = Ridge(normalize=True)\n",
    "ridge_model.alpha = 0.6\n",
    "# Fit the model\n",
    "ridge_model.fit(X_train, y_train)"
   ]
  },
  {
   "cell_type": "code",
   "execution_count": 97,
   "id": "superb-dictionary",
   "metadata": {},
   "outputs": [],
   "source": [
    "# Make a prediction\n",
    "y_pred = ridge_model.predict(X_test)"
   ]
  },
  {
   "cell_type": "markdown",
   "id": "adverse-reference",
   "metadata": {},
   "source": [
    "Model evaluation"
   ]
  },
  {
   "cell_type": "code",
   "execution_count": 98,
   "id": "knowing-knight",
   "metadata": {},
   "outputs": [
    {
     "name": "stdout",
     "output_type": "stream",
     "text": [
      "MSE: 13.89849137862531\n",
      "MAE: 2.895737910879879\n",
      "R2: 0.8127018029710407\n"
     ]
    }
   ],
   "source": [
    "# Obtain the value of MSE \n",
    "MSE = mean_squared_error(y_test, y_pred)\n",
    "print('MSE:', MSE)\n",
    "# Obtain the value of MAE \n",
    "MAE = mean_absolute_error(y_test, y_pred)\n",
    "print('MAE:', MAE)\n",
    "R2 = ridge_model.score(X_test, y_test)\n",
    "print(\"R2:\", R2)"
   ]
  },
  {
   "cell_type": "markdown",
   "id": "directed-embassy",
   "metadata": {},
   "source": [
    "## Part 4: Naive Bayes\n",
    "reference:\n",
    "\n",
    "https://colab.research.google.com/github/jakevdp/PythonDataScienceHandbook/blob/master/notebooks/05.05-Naive-Bayes.ipynb#scrollTo=-NJHDvC9xpc-"
   ]
  },
  {
   "cell_type": "code",
   "execution_count": 125,
   "id": "identical-taylor",
   "metadata": {},
   "outputs": [],
   "source": [
    "# Import dataset stimulation package\n",
    "from sklearn.datasets import make_blobs\n",
    "# Model package\n",
    "from sklearn.naive_bayes import GaussianNB\n",
    "# Decision boundary\n",
    "from mlxtend.plotting import plot_decision_regions\n",
    "import matplotlib.gridspec as gridspec\n",
    "# Evaluation metrics\n",
    "from sklearn.metrics import auc\n",
    "from sklearn.metrics import f1_score\n",
    "from sklearn.metrics import roc_curve"
   ]
  },
  {
   "cell_type": "markdown",
   "id": "liberal-staff",
   "metadata": {},
   "source": [
    "Now we will implement the model on clinical data"
   ]
  },
  {
   "cell_type": "code",
   "execution_count": 126,
   "id": "assured-military",
   "metadata": {},
   "outputs": [
    {
     "data": {
      "text/html": [
       "<div>\n",
       "<style scoped>\n",
       "    .dataframe tbody tr th:only-of-type {\n",
       "        vertical-align: middle;\n",
       "    }\n",
       "\n",
       "    .dataframe tbody tr th {\n",
       "        vertical-align: top;\n",
       "    }\n",
       "\n",
       "    .dataframe thead th {\n",
       "        text-align: right;\n",
       "    }\n",
       "</style>\n",
       "<table border=\"1\" class=\"dataframe\">\n",
       "  <thead>\n",
       "    <tr style=\"text-align: right;\">\n",
       "      <th></th>\n",
       "      <th>glucose</th>\n",
       "      <th>bloodpressure</th>\n",
       "      <th>diabetes</th>\n",
       "    </tr>\n",
       "  </thead>\n",
       "  <tbody>\n",
       "    <tr>\n",
       "      <th>0</th>\n",
       "      <td>40</td>\n",
       "      <td>85</td>\n",
       "      <td>0</td>\n",
       "    </tr>\n",
       "    <tr>\n",
       "      <th>1</th>\n",
       "      <td>40</td>\n",
       "      <td>92</td>\n",
       "      <td>0</td>\n",
       "    </tr>\n",
       "    <tr>\n",
       "      <th>2</th>\n",
       "      <td>45</td>\n",
       "      <td>63</td>\n",
       "      <td>1</td>\n",
       "    </tr>\n",
       "    <tr>\n",
       "      <th>3</th>\n",
       "      <td>45</td>\n",
       "      <td>80</td>\n",
       "      <td>0</td>\n",
       "    </tr>\n",
       "    <tr>\n",
       "      <th>4</th>\n",
       "      <td>40</td>\n",
       "      <td>73</td>\n",
       "      <td>1</td>\n",
       "    </tr>\n",
       "  </tbody>\n",
       "</table>\n",
       "</div>"
      ],
      "text/plain": [
       "   glucose  bloodpressure  diabetes\n",
       "0       40             85         0\n",
       "1       40             92         0\n",
       "2       45             63         1\n",
       "3       45             80         0\n",
       "4       40             73         1"
      ]
     },
     "execution_count": 126,
     "metadata": {},
     "output_type": "execute_result"
    }
   ],
   "source": [
    "nb_df = pd.read_csv(\"./data/NB_dataset.txt\", delimiter=',')\n",
    "nb_df.head()"
   ]
  },
  {
   "cell_type": "code",
   "execution_count": 127,
   "id": "veterinary-decimal",
   "metadata": {},
   "outputs": [
    {
     "name": "stdout",
     "output_type": "stream",
     "text": [
      "          glucose  bloodpressure    diabetes\n",
      "count  995.000000     995.000000  995.000000\n",
      "mean    44.306533      79.184925    0.500503\n",
      "std      6.707567       9.340204    0.500251\n",
      "min     20.000000      50.000000    0.000000\n",
      "25%     40.000000      72.000000    0.000000\n",
      "50%     45.000000      80.000000    1.000000\n",
      "75%     50.000000      87.000000    1.000000\n",
      "max     70.000000     100.000000    1.000000\n",
      "<class 'pandas.core.frame.DataFrame'>\n",
      "RangeIndex: 995 entries, 0 to 994\n",
      "Data columns (total 3 columns):\n",
      " #   Column         Non-Null Count  Dtype\n",
      "---  ------         --------------  -----\n",
      " 0   glucose        995 non-null    int64\n",
      " 1   bloodpressure  995 non-null    int64\n",
      " 2   diabetes       995 non-null    int64\n",
      "dtypes: int64(3)\n",
      "memory usage: 23.4 KB\n",
      "None\n"
     ]
    }
   ],
   "source": [
    "# Exercise: try to view the summary table for this dataset\n",
    "\n",
    "# Solution:\n",
    "print(nb_df.describe())\n",
    "print(nb_df.info())"
   ]
  },
  {
   "cell_type": "markdown",
   "id": "center-latter",
   "metadata": {},
   "source": [
    "Before feeding the data to the naive Bayes classifier model, we need to do some pre-processing.\n",
    "Here, we’ll create the x and y variables by taking them from the dataset and using the train_test_split function of scikit-learn to split the data into training and test sets."
   ]
  },
  {
   "cell_type": "code",
   "execution_count": 128,
   "id": "julian-marker",
   "metadata": {},
   "outputs": [],
   "source": [
    "X = nb_df[[\"glucose\", \"bloodpressure\"]]\n",
    "y = nb_df[\"diabetes\"]"
   ]
  },
  {
   "cell_type": "code",
   "execution_count": 129,
   "id": "biological-curtis",
   "metadata": {},
   "outputs": [],
   "source": [
    "# Exercise: try to split the dataset into training and validation set with \n",
    "# test_size = 0.25 and random_sate = 1\n",
    "\n",
    "# Solution:\n",
    "X_train, X_test, y_train, y_test = train_test_split(X, y, test_size = 0.25, random_state = 1) # Leave this line blank for exercise"
   ]
  },
  {
   "cell_type": "code",
   "execution_count": 130,
   "id": "qualified-muslim",
   "metadata": {},
   "outputs": [
    {
     "data": {
      "text/plain": [
       "array([1, 0, 1, 1, 1, 0, 0, 1, 0, 0, 1, 1, 0, 0, 1, 0, 0, 0, 1, 1, 0, 0,\n",
       "       0, 1, 1, 1, 1, 1, 0, 0, 1, 0, 1, 1, 1, 0, 1, 1, 1, 1, 0, 1, 0, 0,\n",
       "       0, 0, 1, 1, 0, 0, 1, 1, 1, 1, 0, 0, 0, 1, 1, 1, 1, 0, 0, 0, 0, 1,\n",
       "       1, 1, 1, 1, 1, 1, 1, 1, 1, 0, 0, 1, 1, 1, 1, 1, 1, 1, 0, 1, 1, 0,\n",
       "       0, 1, 0, 1, 0, 0, 1, 1, 0, 1, 0, 0, 1, 0, 0, 0, 0, 1, 0, 0, 1, 0,\n",
       "       0, 0, 0, 1, 0, 0, 0, 0, 0, 1, 0, 1, 0, 0, 0, 0, 1, 0, 1, 0, 0, 1,\n",
       "       1, 1, 0, 1, 0, 1, 0, 1, 0, 1, 1, 0, 0, 0, 0, 1, 1, 1, 0, 1, 1, 0,\n",
       "       1, 0, 0, 0, 0, 1, 0, 0, 1, 0, 1, 0, 0, 0, 0, 0, 1, 0, 0, 0, 0, 1,\n",
       "       1, 0, 0, 0, 0, 0, 0, 0, 0, 1, 1, 0, 1, 0, 1, 1, 0, 0, 0, 0, 0, 0,\n",
       "       0, 0, 1, 0, 0, 1, 0, 1, 0, 0, 0, 1, 1, 1, 1, 1, 1, 1, 1, 0, 1, 0,\n",
       "       0, 1, 1, 0, 0, 1, 1, 1, 1, 0, 0, 1, 1, 0, 0, 0, 1, 0, 0, 1, 1, 1,\n",
       "       0, 0, 0, 0, 0, 1, 1])"
      ]
     },
     "execution_count": 130,
     "metadata": {},
     "output_type": "execute_result"
    }
   ],
   "source": [
    "nb_model = GaussianNB()\n",
    "nb_model.fit(X_train, y_train)\n",
    "y_pred = nb_model.predict(X_test)\n",
    "y_pred"
   ]
  },
  {
   "cell_type": "markdown",
   "id": "dimensional-season",
   "metadata": {},
   "source": [
    "**Model Evaluation**\n",
    "\n",
    "Finally, we need to check to see how well our model is performing on the test data. For this, we evaluate our model by finding the accuracy score produced by the model."
   ]
  },
  {
   "cell_type": "code",
   "execution_count": 131,
   "id": "productive-entrance",
   "metadata": {},
   "outputs": [],
   "source": [
    "accuracy = accuracy_score(y_pred, y_test)*100\n",
    "f1 = f1_score(y_test, y_pred)\n",
    "# Avoid using variables with the same name as a function\n",
    "fpr, tpr, thresholds = roc_curve(y_test, y_pred)\n",
    "auc_value = auc(fpr, tpr)"
   ]
  },
  {
   "cell_type": "code",
   "execution_count": 132,
   "id": "annual-leeds",
   "metadata": {},
   "outputs": [
    {
     "name": "stdout",
     "output_type": "stream",
     "text": [
      "Accuracy:  94.77911646586345\n",
      "F1:  0.9465020576131686\n",
      "AUC:  0.9482191250483932\n"
     ]
    }
   ],
   "source": [
    "print(\"Accuracy: \", accuracy)\n",
    "print(\"F1: \", f1)\n",
    "print(\"AUC: \", auc_value)"
   ]
  },
  {
   "cell_type": "markdown",
   "id": "retained-opening",
   "metadata": {},
   "source": [
    "**Optional Exercise:**\n",
    "\n",
    "- Use the Oesophageal Cancer dataset that we used in binary logistic regression to train an Naive Bayes model \n",
    "- Compare the model performance"
   ]
  },
  {
   "cell_type": "code",
   "execution_count": 133,
   "id": "floral-worker",
   "metadata": {},
   "outputs": [],
   "source": [
    "X = oesophageal_df.drop(\"case\", axis = 1)\n",
    "Y = oesophageal_df[\"case\"]\n",
    "# Split train and validation set (Python is case sensitive, pay attention to y & Y)\n",
    "X_train, X_test, y_train, y_test = train_test_split(X, Y, test_size = 0.2, random_state = 0) "
   ]
  },
  {
   "cell_type": "code",
   "execution_count": 134,
   "id": "received-sixth",
   "metadata": {},
   "outputs": [],
   "source": [
    "nb_model = GaussianNB()\n",
    "nb_model.fit(X_train, y_train)\n",
    "y_pred = nb_model.predict(X_test)\n",
    "# Dimensional purpose\n",
    "y_test = y_test.to_numpy().reshape(-1, 1)"
   ]
  },
  {
   "cell_type": "code",
   "execution_count": 135,
   "id": "hawaiian-alarm",
   "metadata": {},
   "outputs": [],
   "source": [
    "accuracy = accuracy_score(y_pred, y_test)*100\n",
    "f1 = f1_score(y_test, y_pred)\n",
    "# Avoid using variables with the same name as a function\n",
    "fpr, tpr, thresholds = roc_curve(y_test, y_pred)\n",
    "auc_value = auc(fpr, tpr)"
   ]
  },
  {
   "cell_type": "code",
   "execution_count": 136,
   "id": "terminal-egyptian",
   "metadata": {},
   "outputs": [
    {
     "name": "stdout",
     "output_type": "stream",
     "text": [
      "Accuracy:  68.42105263157895\n",
      "F1:  0.7000000000000001\n",
      "AUC:  0.7102272727272727\n"
     ]
    }
   ],
   "source": [
    "print(\"Accuracy: \", accuracy)\n",
    "print(\"F1: \", f1)\n",
    "print(\"AUC: \", auc_value)"
   ]
  }
 ],
 "metadata": {
  "kernelspec": {
   "display_name": "Python 3",
   "language": "python",
   "name": "python3"
  },
  "language_info": {
   "codemirror_mode": {
    "name": "ipython",
    "version": 3
   },
   "file_extension": ".py",
   "mimetype": "text/x-python",
   "name": "python",
   "nbconvert_exporter": "python",
   "pygments_lexer": "ipython3",
   "version": "3.8.5"
  }
 },
 "nbformat": 4,
 "nbformat_minor": 5
}
