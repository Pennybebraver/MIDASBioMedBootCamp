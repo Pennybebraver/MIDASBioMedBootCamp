{
 "cells": [
  {
   "cell_type": "markdown",
   "id": "patent-generation",
   "metadata": {},
   "source": [
    "## Introduction\n",
    "Today we're going to build linear regression, logistic regression, ridge regression and Naive Bayes using health related data. Struecture codes will be provided. Along the way, we'll play with some fun Python codes. By the end, we'll have completed a data science project from start to finish."
   ]
  },
  {
   "cell_type": "code",
   "execution_count": 1,
   "id": "organizational-blank",
   "metadata": {},
   "outputs": [
    {
     "name": "stdout",
     "output_type": "stream",
     "text": [
      "/Users/pengning/Desktop/Bootcamp/session_10\n"
     ]
    }
   ],
   "source": [
    "# View current directory\n",
    "!pwd\n",
    "# Step 1: Make a folder named session_10 under the class folder if you haven't created.\n",
    "# !mkdir session10\n",
    "# Make a folder named data under the session_10 if you haven't created.\n",
    "# !mkdir data"
   ]
  },
  {
   "cell_type": "code",
   "execution_count": 2,
   "id": "numerous-personality",
   "metadata": {},
   "outputs": [],
   "source": [
    "# Step 2: Import packages and classes\n",
    "# It is a good habit to install packages at the \n",
    "# beginning of the codes\n",
    "import pandas  as pd # Data manipulation\n",
    "import numpy as np # Data manipulation\n",
    "from sklearn.linear_model import LinearRegression # Model building\n",
    "import matplotlib.pyplot as plt # Visualization\n",
    "import seaborn as sns # Visualization\n",
    "from matplotlib import style\n",
    "from sklearn.metrics import mean_squared_error #Evaluation metrics\n",
    "from sklearn.metrics import mean_absolute_error #Evaluation metrics\n",
    "import statsmodels.api as sm\n",
    "from termcolor import colored as cl\n",
    "from sklearn.model_selection import train_test_split\n",
    "from sklearn import preprocessing\n",
    "from sklearn.linear_model import LogisticRegression\n",
    "from sklearn.model_selection import train_test_split\n",
    "# Display the plot in notebook and make plots sorted\n",
    "%matplotlib inline "
   ]
  },
  {
   "cell_type": "markdown",
   "id": "convinced-assumption",
   "metadata": {},
   "source": [
    "## Simple linear regression"
   ]
  },
  {
   "cell_type": "code",
   "execution_count": 3,
   "id": "disciplinary-rally",
   "metadata": {},
   "outputs": [],
   "source": [
    "# Download data to data folder\n",
    "health_df_1 = pd.read_csv('./data/table501.txt', delimiter = \",\")"
   ]
  },
  {
   "cell_type": "code",
   "execution_count": 4,
   "id": "heavy-latino",
   "metadata": {},
   "outputs": [
    {
     "data": {
      "text/html": [
       "<div>\n",
       "<style scoped>\n",
       "    .dataframe tbody tr th:only-of-type {\n",
       "        vertical-align: middle;\n",
       "    }\n",
       "\n",
       "    .dataframe tbody tr th {\n",
       "        vertical-align: top;\n",
       "    }\n",
       "\n",
       "    .dataframe thead th {\n",
       "        text-align: right;\n",
       "    }\n",
       "</style>\n",
       "<table border=\"1\" class=\"dataframe\">\n",
       "  <thead>\n",
       "    <tr style=\"text-align: right;\">\n",
       "      <th></th>\n",
       "      <th>SBP</th>\n",
       "      <th>Age</th>\n",
       "    </tr>\n",
       "  </thead>\n",
       "  <tbody>\n",
       "    <tr>\n",
       "      <th>0</th>\n",
       "      <td>144</td>\n",
       "      <td>39</td>\n",
       "    </tr>\n",
       "    <tr>\n",
       "      <th>1</th>\n",
       "      <td>138</td>\n",
       "      <td>45</td>\n",
       "    </tr>\n",
       "    <tr>\n",
       "      <th>2</th>\n",
       "      <td>145</td>\n",
       "      <td>47</td>\n",
       "    </tr>\n",
       "    <tr>\n",
       "      <th>3</th>\n",
       "      <td>162</td>\n",
       "      <td>65</td>\n",
       "    </tr>\n",
       "    <tr>\n",
       "      <th>4</th>\n",
       "      <td>170</td>\n",
       "      <td>67</td>\n",
       "    </tr>\n",
       "  </tbody>\n",
       "</table>\n",
       "</div>"
      ],
      "text/plain": [
       "   SBP  Age\n",
       "0  144   39\n",
       "1  138   45\n",
       "2  145   47\n",
       "3  162   65\n",
       "4  170   67"
      ]
     },
     "execution_count": 4,
     "metadata": {},
     "output_type": "execute_result"
    }
   ],
   "source": [
    "# To double check whether table501.txt has been loaded succesfully and\n",
    "# have a brief view on the data. \n",
    "# Always list part of the data and check if they make sense.\n",
    "health_df_1.head()"
   ]
  },
  {
   "cell_type": "code",
   "execution_count": 5,
   "id": "tight-bracket",
   "metadata": {},
   "outputs": [],
   "source": [
    "# Extrac X (SBP) and Y (Age)\n",
    "X = health_df_1.SBP\n",
    "Y = health_df_1.Age\n",
    "# Call .reshape() on x because this array is required to be two-dimensional\n",
    "X = X.to_numpy().reshape(-1, 1)\n",
    "Y = Y.to_numpy()"
   ]
  },
  {
   "cell_type": "code",
   "execution_count": 6,
   "id": "random-rabbit",
   "metadata": {},
   "outputs": [
    {
     "data": {
      "image/png": "[encoded data removed]",
      "text/plain": [
       "<Figure size 432x288 with 1 Axes>"
      ]
     },
     "metadata": {
      "needs_background": "light"
     },
     "output_type": "display_data"
    }
   ],
   "source": [
    "# Step 3: visualize the data\n",
    "# Create a histogram with normal curve\n",
    "# An \"interface\" to matplotlib.axes.Axes.hist() method\n",
    "# Use funtion matplotlib.pyplot.hist(x, alpha=n)to plot histogram\n",
    "n, bins, patches = plt.hist(x=X, # Dataset\n",
    "                            bins='auto', \n",
    "                            color='#0504aa', \n",
    "                            alpha=0.7, # Transparency\n",
    "                            rwidth=0.85)\n",
    "plt.grid(axis='y', alpha=0.75)\n",
    "plt.xlabel('SBP')\n",
    "plt.ylabel('Count')\n",
    "plt.title('Histogram of SBP')\n",
    "plt.show()"
   ]
  },
  {
   "cell_type": "code",
   "execution_count": 7,
   "id": "endangered-phase",
   "metadata": {},
   "outputs": [
    {
     "data": {
      "image/png": "[encoded data removed]",
      "text/plain": [
       "<Figure size 432x288 with 1 Axes>"
      ]
     },
     "metadata": {},
     "output_type": "display_data"
    }
   ],
   "source": [
    "# Create a scatterplot to further visualice the relationship between\n",
    "# SBP and Age\n",
    "plt.style.use('seaborn-whitegrid')\n",
    "plt.scatter(X, Y, color='#0504aa')\n",
    "plt.xlabel('SBP')\n",
    "plt.ylabel('Age')\n",
    "plt.title('Scatter plot of SBP')\n",
    "plt.show()"
   ]
  },
  {
   "cell_type": "code",
   "execution_count": 8,
   "id": "twenty-logan",
   "metadata": {},
   "outputs": [
    {
     "name": "stdout",
     "output_type": "stream",
     "text": [
      "intercept: -59.85538876763905\n",
      "slope: [0.75037069]\n"
     ]
    }
   ],
   "source": [
    "# Step 4: built linear regression model\n",
    "# Create model\n",
    "slr_model = LinearRegression()\n",
    "slr_model.fit(X, Y)\n",
    "intercept = slr_model.intercept_\n",
    "slope = slr_model.coef_\n",
    "print('intercept:', intercept)\n",
    "print('slope:', slope)\n",
    "y_pred = slr_model.predict(X)\n",
    "# print('predicted response:', y_pred, sep='\\n')\n",
    "y_pred = intercept + slope * X"
   ]
  },
  {
   "cell_type": "markdown",
   "id": "other-barrier",
   "metadata": {},
   "source": [
    "### Choose an evaluation metric\n",
    "* We then need to compare these predictions with the actual result and measure them in some way.\n",
    "* This is where the selection of evaluation metric is important. For regression, we measure the distance between the predicted and actual answers in some way. The shorter the distance, the more correct the model is. \n",
    "* We cover three common metrics below:\n",
    "  * `Mean Absolute Error`: which provides a mean score for all the predicted versus actual values as an absolute value \n",
    "  * `Means Squared Error`: which provides a mean score for all the predicted versus actual values as a square of the absolute value\n",
    "  * `R2`: which we recommend you research as an exercise to grow your knowledge. WIkipedia and `sklearn` document are a great place to start!\n"
   ]
  },
  {
   "cell_type": "code",
   "execution_count": 9,
   "id": "unusual-damage",
   "metadata": {},
   "outputs": [
    {
     "data": {
      "image/png": "[encoded data removed]",
      "text/plain": [
       "<Figure size 432x288 with 1 Axes>"
      ]
     },
     "metadata": {},
     "output_type": "display_data"
    }
   ],
   "source": [
    "# Step 5: visualize regression\n",
    "plt.xlabel('SBP', fontsize=15)\n",
    "plt.ylabel('Age', fontsize=15)\n",
    "plt.scatter(X, Y, color='#0504aa')\n",
    "plt.plot(X, intercept + slope*X, c = 'r', linewidth=5, alpha=.5, solid_capstyle='round')\n",
    "plt.show()"
   ]
  },
  {
   "cell_type": "markdown",
   "id": "living-semiconductor",
   "metadata": {},
   "source": [
    "### Choose an evaluation metric\n",
    "* We then need to compare these predictions with the actual result and measure them in some way.\n",
    "* This is where the selection of evaluation metric is important. For regression, we measure the distance between the predicted and actual answers in some way. The shorter the distance, the more correct the model is. \n",
    "* We cover three common metrics below:\n",
    "  * `Mean Absolute Error`: which provides a mean score for all the predicted versus actual values as an absolute value \n",
    "  * `Means Squared Error`: which provides a mean score for all the predicted versus actual values as a square of the absolute value\n",
    "  * `R2`: the proportion of the variance in the dependent variable that is predictable from the independent variable(s)"
   ]
  },
  {
   "cell_type": "code",
   "execution_count": 10,
   "id": "enabling-martin",
   "metadata": {},
   "outputs": [
    {
     "name": "stdout",
     "output_type": "stream",
     "text": [
      "MSE: 69.67565944959195\n",
      "MAE: 7.093106571052525\n",
      "R squrare: 0.7122099509065329\n"
     ]
    }
   ],
   "source": [
    "# Obtain the value of MSE \n",
    "MSE = mean_squared_error(Y, y_pred)\n",
    "print('MSE:', MSE)\n",
    "# Obtain the value of MAE \n",
    "MAE = mean_absolute_error(Y, y_pred)\n",
    "print('MAE:', MAE)\n",
    "# Obtain the value of 𝑅² using .score()\n",
    "r_sq = slr_model.score(X, Y)\n",
    "slope = slr_model.coef_\n",
    "intercept = slr_model.intercept_\n",
    "print('R squrare:', r_sq)"
   ]
  },
  {
   "cell_type": "markdown",
   "id": "numeric-blade",
   "metadata": {},
   "source": [
    "## Part 1: Multiple linear regression"
   ]
  },
  {
   "cell_type": "code",
   "execution_count": 11,
   "id": "associate-frederick",
   "metadata": {},
   "outputs": [
    {
     "data": {
      "text/html": [
       "<div>\n",
       "<style scoped>\n",
       "    .dataframe tbody tr th:only-of-type {\n",
       "        vertical-align: middle;\n",
       "    }\n",
       "\n",
       "    .dataframe tbody tr th {\n",
       "        vertical-align: top;\n",
       "    }\n",
       "\n",
       "    .dataframe thead th {\n",
       "        text-align: right;\n",
       "    }\n",
       "</style>\n",
       "<table border=\"1\" class=\"dataframe\">\n",
       "  <thead>\n",
       "    <tr style=\"text-align: right;\">\n",
       "      <th></th>\n",
       "      <th>ID</th>\n",
       "      <th>Mother_age</th>\n",
       "      <th>Mother_smoking</th>\n",
       "      <th>Birth_weight</th>\n",
       "    </tr>\n",
       "  </thead>\n",
       "  <tbody>\n",
       "    <tr>\n",
       "      <th>0</th>\n",
       "      <td>1</td>\n",
       "      <td>18</td>\n",
       "      <td>1.0</td>\n",
       "      <td>110</td>\n",
       "    </tr>\n",
       "    <tr>\n",
       "      <th>1</th>\n",
       "      <td>2</td>\n",
       "      <td>23</td>\n",
       "      <td>1.3</td>\n",
       "      <td>97</td>\n",
       "    </tr>\n",
       "    <tr>\n",
       "      <th>2</th>\n",
       "      <td>3</td>\n",
       "      <td>34</td>\n",
       "      <td>2.0</td>\n",
       "      <td>88</td>\n",
       "    </tr>\n",
       "    <tr>\n",
       "      <th>3</th>\n",
       "      <td>4</td>\n",
       "      <td>19</td>\n",
       "      <td>2.0</td>\n",
       "      <td>92</td>\n",
       "    </tr>\n",
       "    <tr>\n",
       "      <th>4</th>\n",
       "      <td>5</td>\n",
       "      <td>22</td>\n",
       "      <td>1.4</td>\n",
       "      <td>105</td>\n",
       "    </tr>\n",
       "  </tbody>\n",
       "</table>\n",
       "</div>"
      ],
      "text/plain": [
       "   ID  Mother_age  Mother_smoking  Birth_weight\n",
       "0   1          18             1.0           110\n",
       "1   2          23             1.3            97\n",
       "2   3          34             2.0            88\n",
       "3   4          19             2.0            92\n",
       "4   5          22             1.4           105"
      ]
     },
     "execution_count": 11,
     "metadata": {},
     "output_type": "execute_result"
    }
   ],
   "source": [
    "health_df_2 = pd.read_csv('./data/smoke.csv')\n",
    "health_df_2.head()"
   ]
  },
  {
   "cell_type": "code",
   "execution_count": 12,
   "id": "terminal-patrol",
   "metadata": {},
   "outputs": [
    {
     "name": "stdout",
     "output_type": "stream",
     "text": [
      "             ID  Mother_age  Mother_smoking  Birth_weight\n",
      "count  20.00000   20.000000       20.000000      20.00000\n",
      "mean   10.50000   24.900000        1.365000     103.00000\n",
      "std     5.91608    6.290343        0.791584      27.25513\n",
      "min     1.00000   16.000000        0.200000      22.00000\n",
      "25%     5.75000   20.000000        0.775000      89.50000\n",
      "50%    10.50000   22.500000        1.300000     102.50000\n",
      "75%    15.25000   29.500000        2.000000     120.75000\n",
      "max    20.00000   38.000000        3.000000     142.00000\n",
      "\n",
      " The shape of dataset 2 is: (20, 4)\n"
     ]
    }
   ],
   "source": [
    "# pandas has a lot of functionality to assist with exploratory data analysis\n",
    "# .describe() provide summary statistics on all numeric columns\n",
    "print(health_df_2.describe())\n",
    "# we can also see the shape of the data\n",
    "print(\"\\n The shape of dataset 2 is:\", health_df_2.shape)"
   ]
  },
  {
   "cell_type": "code",
   "execution_count": 13,
   "id": "retained-insert",
   "metadata": {},
   "outputs": [],
   "source": [
    "X = health_df_2[['Mother_age', 'Mother_smoking']].to_numpy()\n",
    "Y = health_df_2['Birth_weight'].to_numpy().reshape(-1, 1)"
   ]
  },
  {
   "cell_type": "code",
   "execution_count": 14,
   "id": "sexual-package",
   "metadata": {},
   "outputs": [
    {
     "data": {
      "image/png": "[encoded data removed]",
      "text/plain": [
       "<Figure size 864x432 with 2 Axes>"
      ]
     },
     "metadata": {},
     "output_type": "display_data"
    },
    {
     "data": {
      "image/png": "[encoded data removed]",
      "text/plain": [
       "<Figure size 864x432 with 2 Axes>"
      ]
     },
     "metadata": {},
     "output_type": "display_data"
    },
    {
     "data": {
      "image/png": "[encoded data removed]",
      "text/plain": [
       "<Figure size 864x432 with 2 Axes>"
      ]
     },
     "metadata": {},
     "output_type": "display_data"
    }
   ],
   "source": [
    "# we can build on this analysis by plotting the distribution and boxplots for each column\n",
    "# \n",
    "# we loop through all the columns\n",
    "for col in health_df_2.columns[1:]: # the first row is index, ignore\n",
    "    # and for each column we create space for one row with 2 charts \n",
    "    f, axes = plt.subplots(1, 2, figsize=(12, 6))\n",
    "    # our first chart is a histogram and we set the title \n",
    "    health_df_2[col].hist(bins='auto', color='g', alpha=0.9, rwidth=0.85, ax = axes[0])\n",
    "    axes[0].set_title('Distribution of '+ col)\n",
    "    # our second column is the boxplot \n",
    "    health_df_2.boxplot(column = col, ax = axes[1])\n",
    "    # we then use this to command to display the charts\n",
    "    plt.show()"
   ]
  },
  {
   "cell_type": "code",
   "execution_count": 15,
   "id": "internal-worse",
   "metadata": {},
   "outputs": [],
   "source": [
    "df_2 = health_df_2.drop('ID', axis=1)"
   ]
  },
  {
   "cell_type": "code",
   "execution_count": 16,
   "id": "statutory-monaco",
   "metadata": {},
   "outputs": [
    {
     "data": {
      "image/png": "[encoded data removed]",
      "text/plain": [
       "<Figure size 540x540 with 12 Axes>"
      ]
     },
     "metadata": {},
     "output_type": "display_data"
    }
   ],
   "source": [
    "# Another way to gain insight from the relationship betwwen variables without\n",
    "# using for loop\n",
    "style.use('seaborn-whitegrid')\n",
    "plt.rcParams['figure.figsize'] = (20,10)\n",
    "sns.pairplot(df_2)\n",
    "plt.savefig('pairplor_health_df_2.png')\n",
    "plt.show()"
   ]
  },
  {
   "cell_type": "code",
   "execution_count": 17,
   "id": "regional-republican",
   "metadata": {},
   "outputs": [],
   "source": [
    "# Split the data set into trianing and validation\n",
    "X = df_2.drop(\"Birth_weight\", axis = 1)\n",
    "Y = df_2[\"Birth_weight\"]\n",
    "X_train, X_test, y_train, y_test = train_test_split(X, Y, test_size = 0.2, random_state = 0)"
   ]
  },
  {
   "cell_type": "code",
   "execution_count": 18,
   "id": "awful-raising",
   "metadata": {},
   "outputs": [],
   "source": [
    "# Since Mother smoking has a strong negative relationship\n",
    "# with birth weight, we test a slm first\n",
    "slr = LinearRegression()\n",
    "slr.fit(X_train[\"Mother_smoking\"].to_numpy().reshape(-1, 1), y_train) # Dimension purpose\n",
    "y_pred = slr.predict(X_test[\"Mother_smoking\"].to_numpy().reshape(-1, 1))"
   ]
  },
  {
   "cell_type": "code",
   "execution_count": 19,
   "id": "three-ivory",
   "metadata": {},
   "outputs": [
    {
     "data": {
      "image/png": "[encoded data removed]",
      "text/plain": [
       "<Figure size 1440x720 with 1 Axes>"
      ]
     },
     "metadata": {},
     "output_type": "display_data"
    }
   ],
   "source": [
    "slr_slope = slr.coef_\n",
    "slr_intercept = slr.intercept_\n",
    "\n",
    "sns.scatterplot(x = 'Mother_smoking', \n",
    "                y = 'Birth_weight',\n",
    "                data = df_2[[\"Mother_smoking\", \"Birth_weight\"]],\n",
    "                s = 150, \n",
    "                alpha = 0.5,\n",
    "                edgecolor = 'white')\n",
    "plt.plot(df_2[\"Mother_smoking\"], slr_slope*df_2[\"Mother_smoking\"] + slr_intercept, color = 'r', linewidth = 3, alpha=.7)\n",
    "plt.title(\"Birth weight (oz) vs Mother's smoking during pregnancy (pack/day)\", fontsize = 16)\n",
    "plt.ylabel(\"Birth weight (oz)\", fontsize = 12)\n",
    "plt.xlabel(\"Mother's smoking during pregnancy (pack/day)\", fontsize = 12)\n",
    "plt.savefig('bw_ms_slrfit.png')\n",
    "plt.show()"
   ]
  },
  {
   "cell_type": "code",
   "execution_count": 20,
   "id": "mounted-davis",
   "metadata": {},
   "outputs": [
    {
     "name": "stdout",
     "output_type": "stream",
     "text": [
      "\u001b[1mR-Squared :\u001b[0m 0.886026509049755\n",
      "\u001b[1mMSE:\u001b[0m 51.13848072073806\n",
      "\u001b[1mMAE:\u001b[0m 6.767090395480231\n"
     ]
    }
   ],
   "source": [
    "# Evaluate slr model\n",
    "# Obtain the value of R square\n",
    "print(cl(\"R-Squared :\", attrs = [\"bold\"]),\n",
    "      slr.score(X_test[\"Mother_smoking\"].to_numpy().reshape(-1, 1),\n",
    "                y_test))\n",
    "# Obtain the value of MSE \n",
    "MSE = mean_squared_error(y_test, y_pred)\n",
    "print(cl(\"MSE:\", attrs = [\"bold\"]), MSE)\n",
    "# Obtain the value of MAE \n",
    "MAE = mean_absolute_error(y_test, y_pred)\n",
    "print(cl(\"MAE:\", attrs = [\"bold\"]), MAE)"
   ]
  },
  {
   "cell_type": "markdown",
   "id": "legislative-compound",
   "metadata": {},
   "source": [
    "## Part 2: Binary Logistic Regression\n",
    "This part is modified from Harvard CS109A's lab 6 notebook:\n",
    "https://harvard-iacs.github.io/2018-CS109A/labs/lab-6/student/"
   ]
  },
  {
   "cell_type": "markdown",
   "id": "incident-investment",
   "metadata": {},
   "source": [
    "Linear regression is usually a good baseline model, but since the outcome we're trying to predict only takes values 0 and 1 we'll want to use logistic regression instead of basic linear regression."
   ]
  },
  {
   "cell_type": "code",
   "execution_count": 21,
   "id": "unknown-victorian",
   "metadata": {},
   "outputs": [],
   "source": [
    "from sklearn.linear_model import LogisticRegression\n",
    "from sklearn.metrics import accuracy_score\n",
    "from sklearn.metrics import precision_recall_curve\n",
    "from sklearn.metrics import auc"
   ]
  },
  {
   "cell_type": "code",
   "execution_count": 22,
   "id": "parental-patrol",
   "metadata": {},
   "outputs": [
    {
     "data": {
      "text/html": [
       "<div>\n",
       "<style scoped>\n",
       "    .dataframe tbody tr th:only-of-type {\n",
       "        vertical-align: middle;\n",
       "    }\n",
       "\n",
       "    .dataframe tbody tr th {\n",
       "        vertical-align: top;\n",
       "    }\n",
       "\n",
       "    .dataframe thead th {\n",
       "        text-align: right;\n",
       "    }\n",
       "</style>\n",
       "<table border=\"1\" class=\"dataframe\">\n",
       "  <thead>\n",
       "    <tr style=\"text-align: right;\">\n",
       "      <th></th>\n",
       "      <th>alcohol</th>\n",
       "      <th>tobacco</th>\n",
       "      <th>case</th>\n",
       "      <th>freq</th>\n",
       "    </tr>\n",
       "    <tr>\n",
       "      <th>agegrp</th>\n",
       "      <th></th>\n",
       "      <th></th>\n",
       "      <th></th>\n",
       "      <th></th>\n",
       "    </tr>\n",
       "  </thead>\n",
       "  <tbody>\n",
       "    <tr>\n",
       "      <th>1</th>\n",
       "      <td>0</td>\n",
       "      <td>1</td>\n",
       "      <td>0</td>\n",
       "      <td>40</td>\n",
       "    </tr>\n",
       "    <tr>\n",
       "      <th>1</th>\n",
       "      <td>0</td>\n",
       "      <td>2</td>\n",
       "      <td>0</td>\n",
       "      <td>10</td>\n",
       "    </tr>\n",
       "    <tr>\n",
       "      <th>1</th>\n",
       "      <td>0</td>\n",
       "      <td>3</td>\n",
       "      <td>0</td>\n",
       "      <td>6</td>\n",
       "    </tr>\n",
       "    <tr>\n",
       "      <th>1</th>\n",
       "      <td>0</td>\n",
       "      <td>4</td>\n",
       "      <td>0</td>\n",
       "      <td>5</td>\n",
       "    </tr>\n",
       "    <tr>\n",
       "      <th>1</th>\n",
       "      <td>0</td>\n",
       "      <td>1</td>\n",
       "      <td>1</td>\n",
       "      <td>0</td>\n",
       "    </tr>\n",
       "  </tbody>\n",
       "</table>\n",
       "</div>"
      ],
      "text/plain": [
       "        alcohol  tobacco  case  freq\n",
       "agegrp                              \n",
       "1             0        1     0    40\n",
       "1             0        2     0    10\n",
       "1             0        3     0     6\n",
       "1             0        4     0     5\n",
       "1             0        1     1     0"
      ]
     },
     "execution_count": 22,
     "metadata": {},
     "output_type": "execute_result"
    }
   ],
   "source": [
    "# Read-in and checking\n",
    "oesophageal_df = pd.read_csv(\"data/oesophageal.csv\", index_col=0)\n",
    "# Please examine the first 6 rows of the dataset use method in previous \n",
    "# data checking process\n",
    "oesophageal_df.head() # Leave this line blank for exercise"
   ]
  },
  {
   "cell_type": "code",
   "execution_count": 23,
   "id": "pharmaceutical-award",
   "metadata": {},
   "outputs": [
    {
     "data": {
      "text/html": [
       "<div>\n",
       "<style scoped>\n",
       "    .dataframe tbody tr th:only-of-type {\n",
       "        vertical-align: middle;\n",
       "    }\n",
       "\n",
       "    .dataframe tbody tr th {\n",
       "        vertical-align: top;\n",
       "    }\n",
       "\n",
       "    .dataframe thead th {\n",
       "        text-align: right;\n",
       "    }\n",
       "</style>\n",
       "<table border=\"1\" class=\"dataframe\">\n",
       "  <thead>\n",
       "    <tr style=\"text-align: right;\">\n",
       "      <th></th>\n",
       "      <th>alcohol</th>\n",
       "      <th>tobacco</th>\n",
       "      <th>case</th>\n",
       "      <th>freq</th>\n",
       "    </tr>\n",
       "  </thead>\n",
       "  <tbody>\n",
       "    <tr>\n",
       "      <th>count</th>\n",
       "      <td>92.00000</td>\n",
       "      <td>92.000000</td>\n",
       "      <td>92.00000</td>\n",
       "      <td>92.000000</td>\n",
       "    </tr>\n",
       "    <tr>\n",
       "      <th>mean</th>\n",
       "      <td>0.50000</td>\n",
       "      <td>2.456522</td>\n",
       "      <td>0.50000</td>\n",
       "      <td>8.369565</td>\n",
       "    </tr>\n",
       "    <tr>\n",
       "      <th>std</th>\n",
       "      <td>0.50274</td>\n",
       "      <td>1.123310</td>\n",
       "      <td>0.50274</td>\n",
       "      <td>12.015299</td>\n",
       "    </tr>\n",
       "    <tr>\n",
       "      <th>min</th>\n",
       "      <td>0.00000</td>\n",
       "      <td>1.000000</td>\n",
       "      <td>0.00000</td>\n",
       "      <td>0.000000</td>\n",
       "    </tr>\n",
       "    <tr>\n",
       "      <th>25%</th>\n",
       "      <td>0.00000</td>\n",
       "      <td>1.000000</td>\n",
       "      <td>0.00000</td>\n",
       "      <td>1.000000</td>\n",
       "    </tr>\n",
       "    <tr>\n",
       "      <th>50%</th>\n",
       "      <td>0.50000</td>\n",
       "      <td>2.000000</td>\n",
       "      <td>0.50000</td>\n",
       "      <td>4.000000</td>\n",
       "    </tr>\n",
       "    <tr>\n",
       "      <th>75%</th>\n",
       "      <td>1.00000</td>\n",
       "      <td>3.000000</td>\n",
       "      <td>1.00000</td>\n",
       "      <td>10.000000</td>\n",
       "    </tr>\n",
       "    <tr>\n",
       "      <th>max</th>\n",
       "      <td>1.00000</td>\n",
       "      <td>4.000000</td>\n",
       "      <td>1.00000</td>\n",
       "      <td>60.000000</td>\n",
       "    </tr>\n",
       "  </tbody>\n",
       "</table>\n",
       "</div>"
      ],
      "text/plain": [
       "        alcohol    tobacco      case       freq\n",
       "count  92.00000  92.000000  92.00000  92.000000\n",
       "mean    0.50000   2.456522   0.50000   8.369565\n",
       "std     0.50274   1.123310   0.50274  12.015299\n",
       "min     0.00000   1.000000   0.00000   0.000000\n",
       "25%     0.00000   1.000000   0.00000   1.000000\n",
       "50%     0.50000   2.000000   0.50000   4.000000\n",
       "75%     1.00000   3.000000   1.00000  10.000000\n",
       "max     1.00000   4.000000   1.00000  60.000000"
      ]
     },
     "execution_count": 23,
     "metadata": {},
     "output_type": "execute_result"
    }
   ],
   "source": [
    "# Please view the dataset summary matrix with the method in previous \n",
    "# data checking process\n",
    "oesophageal_df.describe() # Leave this line blank for exercise"
   ]
  },
  {
   "cell_type": "code",
   "execution_count": 24,
   "id": "global-leeds",
   "metadata": {},
   "outputs": [
    {
     "data": {
      "text/html": [
       "<div>\n",
       "<style scoped>\n",
       "    .dataframe tbody tr th:only-of-type {\n",
       "        vertical-align: middle;\n",
       "    }\n",
       "\n",
       "    .dataframe tbody tr th {\n",
       "        vertical-align: top;\n",
       "    }\n",
       "\n",
       "    .dataframe thead th {\n",
       "        text-align: right;\n",
       "    }\n",
       "</style>\n",
       "<table border=\"1\" class=\"dataframe\">\n",
       "  <thead>\n",
       "    <tr style=\"text-align: right;\">\n",
       "      <th></th>\n",
       "      <th>alcohol</th>\n",
       "      <th>tobacco</th>\n",
       "      <th>freq</th>\n",
       "    </tr>\n",
       "    <tr>\n",
       "      <th>agegrp</th>\n",
       "      <th></th>\n",
       "      <th></th>\n",
       "      <th></th>\n",
       "    </tr>\n",
       "  </thead>\n",
       "  <tbody>\n",
       "    <tr>\n",
       "      <th>2</th>\n",
       "      <td>1</td>\n",
       "      <td>3</td>\n",
       "      <td>1</td>\n",
       "    </tr>\n",
       "    <tr>\n",
       "      <th>3</th>\n",
       "      <td>1</td>\n",
       "      <td>2</td>\n",
       "      <td>17</td>\n",
       "    </tr>\n",
       "    <tr>\n",
       "      <th>4</th>\n",
       "      <td>0</td>\n",
       "      <td>3</td>\n",
       "      <td>3</td>\n",
       "    </tr>\n",
       "    <tr>\n",
       "      <th>1</th>\n",
       "      <td>0</td>\n",
       "      <td>3</td>\n",
       "      <td>0</td>\n",
       "    </tr>\n",
       "    <tr>\n",
       "      <th>3</th>\n",
       "      <td>1</td>\n",
       "      <td>4</td>\n",
       "      <td>2</td>\n",
       "    </tr>\n",
       "  </tbody>\n",
       "</table>\n",
       "</div>"
      ],
      "text/plain": [
       "        alcohol  tobacco  freq\n",
       "agegrp                        \n",
       "2             1        3     1\n",
       "3             1        2    17\n",
       "4             0        3     3\n",
       "1             0        3     0\n",
       "3             1        4     2"
      ]
     },
     "execution_count": 24,
     "metadata": {},
     "output_type": "execute_result"
    }
   ],
   "source": [
    "# Split the data set into trianing and validation\n",
    "# Time to practise! Please separate the read-in data\n",
    "# into training and testing sets\n",
    "X = oesophageal_df.drop(\"case\", axis = 1) # Leave this line blank for exercise\n",
    "Y = oesophageal_df[\"case\"] # Leave this line blank for exercise\n",
    "X_train, X_test, y_train, y_test = train_test_split(X, Y, test_size = 0.2, random_state = 0) # Leave this line blank for exercise\n",
    "# Double check whether you have successfully \n",
    "# separate training and testing sets\n",
    "X_train.head()"
   ]
  },
  {
   "cell_type": "code",
   "execution_count": 25,
   "id": "interior-prisoner",
   "metadata": {},
   "outputs": [
    {
     "data": {
      "image/png": "[encoded data removed]",
      "text/plain": [
       "<Figure size 540x540 with 12 Axes>"
      ]
     },
     "metadata": {},
     "output_type": "display_data"
    }
   ],
   "source": [
    "# Visualize your training data\n",
    "# Leave following cell blank for exercise\n",
    "style.use('seaborn-whitegrid')\n",
    "plt.rcParams['figure.figsize'] = (20,10)\n",
    "sns.pairplot(X_train)\n",
    "plt.savefig('pairplor_oesophageal_df_X_train.png')\n",
    "plt.show()"
   ]
  },
  {
   "cell_type": "markdown",
   "id": "challenging-impact",
   "metadata": {},
   "source": [
    "Model building part\n",
    "\n",
    "We'll begin with statsmodels, because this package allow us to compute confidence intervals and check that coefficients make sense or not."
   ]
  },
  {
   "cell_type": "code",
   "execution_count": 26,
   "id": "productive-student",
   "metadata": {},
   "outputs": [],
   "source": [
    "#‘lbfgs’ solver handles multinomial loss in multiclass problems \n",
    "logreg_model = LogisticRegression(solver='lbfgs', class_weight=\"balanced\").fit(X_train, y_train)"
   ]
  },
  {
   "cell_type": "code",
   "execution_count": 27,
   "id": "recreational-rebecca",
   "metadata": {},
   "outputs": [
    {
     "name": "stdout",
     "output_type": "stream",
     "text": [
      "Training Set Score: 0.821917808219178\n",
      "Test Set Score: 0.6842105263157895\n"
     ]
    }
   ],
   "source": [
    "y_preds_train = logreg_model.predict(X_train)\n",
    "y_preds_test = logreg_model.predict(X_test)\n",
    "\n",
    "full_logreg_score_train = accuracy_score(y_train, y_preds_train)\n",
    "full_logreg_score_test = accuracy_score(y_test, y_preds_test)\n",
    "\n",
    "# Evaluation\n",
    "print('Training Set Score: {}'.format(full_logreg_score_train))\n",
    "print('Test Set Score: {}'.format(full_logreg_score_test))"
   ]
  },
  {
   "cell_type": "code",
   "execution_count": 28,
   "id": "positive-visibility",
   "metadata": {},
   "outputs": [
    {
     "data": {
      "text/plain": [
       "(0.0, 1.0)"
      ]
     },
     "execution_count": 28,
     "metadata": {},
     "output_type": "execute_result"
    },
    {
     "data": {
      "image/png": "[encoded data removed]",
      "text/plain": [
       "<Figure size 1440x720 with 1 Axes>"
      ]
     },
     "metadata": {},
     "output_type": "display_data"
    }
   ],
   "source": [
    "# probs_y is a 2-D array of probability of being labeled as\n",
    "# 0 (first column of array) vs 1 (2nd column in array)\n",
    "probs_y = logreg_model.predict_proba(X_test)\n",
    "# Retrieve probability of being 1(in second column of probs_y)\n",
    "precision, recall, thresholds = precision_recall_curve(y_test, probs_y[:, 1]) \n",
    "pr_auc = auc(recall, precision)\n",
    "\n",
    "plt.title(\"Precision-Recall vs Threshold Chart\")\n",
    "plt.plot(thresholds, precision[: -1], \"b--\", label=\"Precision\")\n",
    "plt.plot(thresholds, recall[: -1], \"r--\", label=\"Recall\")\n",
    "plt.ylabel(\"Precision, Recall\")\n",
    "plt.xlabel(\"Threshold\")\n",
    "plt.legend(loc=\"lower left\")\n",
    "plt.ylim([0,1])\n"
   ]
  },
  {
   "cell_type": "code",
   "execution_count": 29,
   "id": "false-annual",
   "metadata": {},
   "outputs": [
    {
     "data": {
      "text/html": [
       "<div>\n",
       "<style scoped>\n",
       "    .dataframe tbody tr th:only-of-type {\n",
       "        vertical-align: middle;\n",
       "    }\n",
       "\n",
       "    .dataframe tbody tr th {\n",
       "        vertical-align: top;\n",
       "    }\n",
       "\n",
       "    .dataframe thead th {\n",
       "        text-align: right;\n",
       "    }\n",
       "</style>\n",
       "<table border=\"1\" class=\"dataframe\">\n",
       "  <thead>\n",
       "    <tr style=\"text-align: right;\">\n",
       "      <th>Predicted</th>\n",
       "      <th>0</th>\n",
       "      <th>1</th>\n",
       "      <th>All</th>\n",
       "    </tr>\n",
       "    <tr>\n",
       "      <th>Actual</th>\n",
       "      <th></th>\n",
       "      <th></th>\n",
       "      <th></th>\n",
       "    </tr>\n",
       "  </thead>\n",
       "  <tbody>\n",
       "    <tr>\n",
       "      <th>0</th>\n",
       "      <td>7</td>\n",
       "      <td>4</td>\n",
       "      <td>11</td>\n",
       "    </tr>\n",
       "    <tr>\n",
       "      <th>1</th>\n",
       "      <td>2</td>\n",
       "      <td>6</td>\n",
       "      <td>8</td>\n",
       "    </tr>\n",
       "    <tr>\n",
       "      <th>All</th>\n",
       "      <td>9</td>\n",
       "      <td>10</td>\n",
       "      <td>19</td>\n",
       "    </tr>\n",
       "  </tbody>\n",
       "</table>\n",
       "</div>"
      ],
      "text/plain": [
       "Predicted  0   1  All\n",
       "Actual               \n",
       "0          7   4   11\n",
       "1          2   6    8\n",
       "All        9  10   19"
      ]
     },
     "execution_count": 29,
     "metadata": {},
     "output_type": "execute_result"
    }
   ],
   "source": [
    "# Get performance by class \n",
    "# Compute the confussion matrix\n",
    "cnf_matrix = pd.crosstab(y_test, y_preds_test, rownames=['Actual'], colnames=['Predicted'])\n",
    "# With margin\n",
    "cnf_matrix_all = pd.crosstab(y_test, y_preds_test, margins=True, rownames=['Actual'], colnames=['Predicted'])\n",
    "cnf_matrix_all"
   ]
  },
  {
   "cell_type": "code",
   "execution_count": 30,
   "id": "alert-identification",
   "metadata": {},
   "outputs": [
    {
     "data": {
      "text/plain": [
       "<matplotlib.axes._subplots.AxesSubplot at 0x7f9294561670>"
      ]
     },
     "execution_count": 30,
     "metadata": {},
     "output_type": "execute_result"
    },
    {
     "data": {
      "image/png": "[encoded data removed]",
      "text/plain": [
       "<Figure size 1440x720 with 2 Axes>"
      ]
     },
     "metadata": {},
     "output_type": "display_data"
    }
   ],
   "source": [
    "# Visualize matrix\n",
    "sns.heatmap(cnf_matrix, annot = True)\n"
   ]
  },
  {
   "cell_type": "markdown",
   "id": "dense-laugh",
   "metadata": {},
   "source": [
    "As can be observed from the above matrix\n",
    "TP = True Positives = 7 (upper left)\n",
    "\n",
    "TN = True Negatives = 6 (lower right)\n",
    "\n",
    "FP = False Positives = 4 (lower left)\n",
    "\n",
    "FN = False Negatives = 2 (upperight)\n",
    "\n",
    "You can then get the Accuracy using:\n",
    "\n",
    "Accuracy = (TP+TN)/Total = (7+6)/19 = 1\n",
    "\n",
    "The accuracy is therefore 68% for the test set."
   ]
  },
  {
   "cell_type": "code",
   "execution_count": 31,
   "id": "surface-spiritual",
   "metadata": {},
   "outputs": [
    {
     "data": {
      "text/plain": [
       "0.6842105263157895"
      ]
     },
     "execution_count": 31,
     "metadata": {},
     "output_type": "execute_result"
    }
   ],
   "source": [
    "# Another way to check the accuracy is shown below, \n",
    "# using accuracy_score() method.\n",
    "accuracy_score(y_test, y_preds_test) "
   ]
  },
  {
   "cell_type": "markdown",
   "id": "according-bosnia",
   "metadata": {},
   "source": [
    "## Part 3: Ridge Regression\n",
    "Ridge regression is a regression technique that is quite similar to unadorned least squares linear regression: simply adding an $\\ell_2$ **penalty** on the parameters $\\beta$ to the objective function for linear regression yields the objective function for ridge regression.\n",
    "\n",
    "Our goal is to find an assignment to $\\beta$ that minimizes the function\n",
    "\n",
    "$$f(\\beta) = \\|X\\beta - Y\\|_2^2 + \\lambda \\|\\beta\\|_2^2,$$\n",
    "\n",
    "where $\\lambda$ is a hyperparameter and, as usual, $X$ is the training data and $Y$ the observations. In practice, we tune $\\lambda$ until we find a model that generalizes well to the test data.\n",
    "\n",
    "Ridge regression is an example of a **shrinkage method**: compared to least squares, it shrinks the parameter estimates in the hopes of **reducing variance and improving prediction accuracy**."
   ]
  },
  {
   "cell_type": "code",
   "execution_count": 32,
   "id": "obvious-cooper",
   "metadata": {},
   "outputs": [
    {
     "data": {
      "text/html": [
       "<img src=\"https://newonlinecourses.science.psu.edu/stat857/sites/onlinecourses.science.psu.edu.stat857/files/lesson04/ridge_regression_geomteric/index.png\"/>"
      ],
      "text/plain": [
       "<IPython.core.display.Image object>"
      ]
     },
     "execution_count": 32,
     "metadata": {},
     "output_type": "execute_result"
    }
   ],
   "source": [
    "from IPython.display import Image\n",
    "Image(url='https://newonlinecourses.science.psu.edu/stat857/sites/onlinecourses.science.psu.edu.stat857/files/lesson04/ridge_regression_geomteric/index.png')"
   ]
  },
  {
   "cell_type": "code",
   "execution_count": 33,
   "id": "hairy-cooking",
   "metadata": {},
   "outputs": [],
   "source": [
    "from sklearn.model_selection import cross_val_score\n",
    "from sklearn.model_selection import RepeatedKFold\n",
    "from sklearn.model_selection import GridSearchCV\n",
    "from sklearn.linear_model import Ridge"
   ]
  },
  {
   "cell_type": "code",
   "execution_count": 34,
   "id": "tamil-charter",
   "metadata": {},
   "outputs": [],
   "source": [
    "framingham_df = pd.read_csv('./data/frmgham2.csv')"
   ]
  },
  {
   "cell_type": "code",
   "execution_count": 35,
   "id": "alike-thesaurus",
   "metadata": {},
   "outputs": [
    {
     "data": {
      "text/html": [
       "<div>\n",
       "<style scoped>\n",
       "    .dataframe tbody tr th:only-of-type {\n",
       "        vertical-align: middle;\n",
       "    }\n",
       "\n",
       "    .dataframe tbody tr th {\n",
       "        vertical-align: top;\n",
       "    }\n",
       "\n",
       "    .dataframe thead th {\n",
       "        text-align: right;\n",
       "    }\n",
       "</style>\n",
       "<table border=\"1\" class=\"dataframe\">\n",
       "  <thead>\n",
       "    <tr style=\"text-align: right;\">\n",
       "      <th></th>\n",
       "      <th>RANDID</th>\n",
       "      <th>SEX</th>\n",
       "      <th>TOTCHOL</th>\n",
       "      <th>AGE</th>\n",
       "      <th>SYSBP</th>\n",
       "      <th>DIABP</th>\n",
       "      <th>CURSMOKE</th>\n",
       "      <th>CIGPDAY</th>\n",
       "      <th>BMI</th>\n",
       "      <th>DIABETES</th>\n",
       "      <th>...</th>\n",
       "      <th>CVD</th>\n",
       "      <th>HYPERTEN</th>\n",
       "      <th>TIMEAP</th>\n",
       "      <th>TIMEMI</th>\n",
       "      <th>TIMEMIFC</th>\n",
       "      <th>TIMECHD</th>\n",
       "      <th>TIMESTRK</th>\n",
       "      <th>TIMECVD</th>\n",
       "      <th>TIMEDTH</th>\n",
       "      <th>TIMEHYP</th>\n",
       "    </tr>\n",
       "  </thead>\n",
       "  <tbody>\n",
       "    <tr>\n",
       "      <th>0</th>\n",
       "      <td>2448</td>\n",
       "      <td>1</td>\n",
       "      <td>195.0</td>\n",
       "      <td>39</td>\n",
       "      <td>106.0</td>\n",
       "      <td>70.0</td>\n",
       "      <td>0</td>\n",
       "      <td>0.0</td>\n",
       "      <td>26.97</td>\n",
       "      <td>0</td>\n",
       "      <td>...</td>\n",
       "      <td>1</td>\n",
       "      <td>0</td>\n",
       "      <td>8766</td>\n",
       "      <td>6438</td>\n",
       "      <td>6438</td>\n",
       "      <td>6438</td>\n",
       "      <td>8766</td>\n",
       "      <td>6438</td>\n",
       "      <td>8766</td>\n",
       "      <td>8766</td>\n",
       "    </tr>\n",
       "    <tr>\n",
       "      <th>1</th>\n",
       "      <td>2448</td>\n",
       "      <td>1</td>\n",
       "      <td>209.0</td>\n",
       "      <td>52</td>\n",
       "      <td>121.0</td>\n",
       "      <td>66.0</td>\n",
       "      <td>0</td>\n",
       "      <td>0.0</td>\n",
       "      <td>NaN</td>\n",
       "      <td>0</td>\n",
       "      <td>...</td>\n",
       "      <td>1</td>\n",
       "      <td>0</td>\n",
       "      <td>8766</td>\n",
       "      <td>6438</td>\n",
       "      <td>6438</td>\n",
       "      <td>6438</td>\n",
       "      <td>8766</td>\n",
       "      <td>6438</td>\n",
       "      <td>8766</td>\n",
       "      <td>8766</td>\n",
       "    </tr>\n",
       "    <tr>\n",
       "      <th>2</th>\n",
       "      <td>6238</td>\n",
       "      <td>2</td>\n",
       "      <td>250.0</td>\n",
       "      <td>46</td>\n",
       "      <td>121.0</td>\n",
       "      <td>81.0</td>\n",
       "      <td>0</td>\n",
       "      <td>0.0</td>\n",
       "      <td>28.73</td>\n",
       "      <td>0</td>\n",
       "      <td>...</td>\n",
       "      <td>0</td>\n",
       "      <td>0</td>\n",
       "      <td>8766</td>\n",
       "      <td>8766</td>\n",
       "      <td>8766</td>\n",
       "      <td>8766</td>\n",
       "      <td>8766</td>\n",
       "      <td>8766</td>\n",
       "      <td>8766</td>\n",
       "      <td>8766</td>\n",
       "    </tr>\n",
       "    <tr>\n",
       "      <th>3</th>\n",
       "      <td>6238</td>\n",
       "      <td>2</td>\n",
       "      <td>260.0</td>\n",
       "      <td>52</td>\n",
       "      <td>105.0</td>\n",
       "      <td>69.5</td>\n",
       "      <td>0</td>\n",
       "      <td>0.0</td>\n",
       "      <td>29.43</td>\n",
       "      <td>0</td>\n",
       "      <td>...</td>\n",
       "      <td>0</td>\n",
       "      <td>0</td>\n",
       "      <td>8766</td>\n",
       "      <td>8766</td>\n",
       "      <td>8766</td>\n",
       "      <td>8766</td>\n",
       "      <td>8766</td>\n",
       "      <td>8766</td>\n",
       "      <td>8766</td>\n",
       "      <td>8766</td>\n",
       "    </tr>\n",
       "    <tr>\n",
       "      <th>4</th>\n",
       "      <td>6238</td>\n",
       "      <td>2</td>\n",
       "      <td>237.0</td>\n",
       "      <td>58</td>\n",
       "      <td>108.0</td>\n",
       "      <td>66.0</td>\n",
       "      <td>0</td>\n",
       "      <td>0.0</td>\n",
       "      <td>28.50</td>\n",
       "      <td>0</td>\n",
       "      <td>...</td>\n",
       "      <td>0</td>\n",
       "      <td>0</td>\n",
       "      <td>8766</td>\n",
       "      <td>8766</td>\n",
       "      <td>8766</td>\n",
       "      <td>8766</td>\n",
       "      <td>8766</td>\n",
       "      <td>8766</td>\n",
       "      <td>8766</td>\n",
       "      <td>8766</td>\n",
       "    </tr>\n",
       "  </tbody>\n",
       "</table>\n",
       "<p>5 rows × 39 columns</p>\n",
       "</div>"
      ],
      "text/plain": [
       "   RANDID  SEX  TOTCHOL  AGE  SYSBP  DIABP  CURSMOKE  CIGPDAY    BMI  \\\n",
       "0    2448    1    195.0   39  106.0   70.0         0      0.0  26.97   \n",
       "1    2448    1    209.0   52  121.0   66.0         0      0.0    NaN   \n",
       "2    6238    2    250.0   46  121.0   81.0         0      0.0  28.73   \n",
       "3    6238    2    260.0   52  105.0   69.5         0      0.0  29.43   \n",
       "4    6238    2    237.0   58  108.0   66.0         0      0.0  28.50   \n",
       "\n",
       "   DIABETES  ...  CVD  HYPERTEN  TIMEAP  TIMEMI  TIMEMIFC  TIMECHD  TIMESTRK  \\\n",
       "0         0  ...    1         0    8766    6438      6438     6438      8766   \n",
       "1         0  ...    1         0    8766    6438      6438     6438      8766   \n",
       "2         0  ...    0         0    8766    8766      8766     8766      8766   \n",
       "3         0  ...    0         0    8766    8766      8766     8766      8766   \n",
       "4         0  ...    0         0    8766    8766      8766     8766      8766   \n",
       "\n",
       "   TIMECVD  TIMEDTH  TIMEHYP  \n",
       "0     6438     8766     8766  \n",
       "1     6438     8766     8766  \n",
       "2     8766     8766     8766  \n",
       "3     8766     8766     8766  \n",
       "4     8766     8766     8766  \n",
       "\n",
       "[5 rows x 39 columns]"
      ]
     },
     "execution_count": 35,
     "metadata": {},
     "output_type": "execute_result"
    }
   ],
   "source": [
    "framingham_df.head()"
   ]
  },
  {
   "cell_type": "markdown",
   "id": "broadband-stranger",
   "metadata": {},
   "source": [
    "## Clean data\n",
    "The dataset contains a few unknown values."
   ]
  },
  {
   "cell_type": "code",
   "execution_count": 36,
   "id": "naughty-hundred",
   "metadata": {},
   "outputs": [
    {
     "data": {
      "text/plain": [
       "RANDID         0\n",
       "SEX            0\n",
       "TOTCHOL      409\n",
       "AGE            0\n",
       "SYSBP          0\n",
       "DIABP          0\n",
       "CURSMOKE       0\n",
       "CIGPDAY       79\n",
       "BMI           52\n",
       "DIABETES       0\n",
       "BPMEDS       593\n",
       "HEARTRTE       6\n",
       "GLUCOSE     1440\n",
       "educ         295\n",
       "PREVCHD        0\n",
       "PREVAP         0\n",
       "PREVMI         0\n",
       "PREVSTRK       0\n",
       "PREVHYP        0\n",
       "TIME           0\n",
       "PERIOD         0\n",
       "HDLC        8600\n",
       "LDLC        8601\n",
       "DEATH          0\n",
       "ANGINA         0\n",
       "HOSPMI         0\n",
       "MI_FCHD        0\n",
       "ANYCHD         0\n",
       "STROKE         0\n",
       "CVD            0\n",
       "HYPERTEN       0\n",
       "TIMEAP         0\n",
       "TIMEMI         0\n",
       "TIMEMIFC       0\n",
       "TIMECHD        0\n",
       "TIMESTRK       0\n",
       "TIMECVD        0\n",
       "TIMEDTH        0\n",
       "TIMEHYP        0\n",
       "dtype: int64"
      ]
     },
     "execution_count": 36,
     "metadata": {},
     "output_type": "execute_result"
    }
   ],
   "source": [
    "framingham_df.isna().sum()"
   ]
  },
  {
   "cell_type": "markdown",
   "id": "international-investor",
   "metadata": {},
   "source": [
    "To create a cleaner dataset, we will drop some columns and remove NaN values manually"
   ]
  },
  {
   "cell_type": "code",
   "execution_count": 37,
   "id": "northern-australia",
   "metadata": {},
   "outputs": [
    {
     "data": {
      "text/plain": [
       "RANDID      0\n",
       "SEX         0\n",
       "TOTCHOL     0\n",
       "AGE         0\n",
       "SYSBP       0\n",
       "DIABP       0\n",
       "CURSMOKE    0\n",
       "CIGPDAY     0\n",
       "BMI         0\n",
       "DIABETES    0\n",
       "BPMEDS      0\n",
       "HEARTRTE    0\n",
       "GLUCOSE     0\n",
       "educ        0\n",
       "PREVCHD     0\n",
       "PREVAP      0\n",
       "PREVMI      0\n",
       "PREVSTRK    0\n",
       "PREVHYP     0\n",
       "TIME        0\n",
       "PERIOD      0\n",
       "HDLC        0\n",
       "LDLC        0\n",
       "DEATH       0\n",
       "ANGINA      0\n",
       "HOSPMI      0\n",
       "MI_FCHD     0\n",
       "ANYCHD      0\n",
       "STROKE      0\n",
       "CVD         0\n",
       "HYPERTEN    0\n",
       "TIMEAP      0\n",
       "TIMEMI      0\n",
       "TIMEMIFC    0\n",
       "TIMECHD     0\n",
       "TIMESTRK    0\n",
       "TIMECVD     0\n",
       "TIMEDTH     0\n",
       "TIMEHYP     0\n",
       "dtype: int64"
      ]
     },
     "execution_count": 37,
     "metadata": {},
     "output_type": "execute_result"
    }
   ],
   "source": [
    "framingham_df = framingham_df.dropna()\n",
    "framingham_df.isna().sum()"
   ]
  },
  {
   "cell_type": "code",
   "execution_count": 38,
   "id": "threatened-yugoslavia",
   "metadata": {},
   "outputs": [],
   "source": [
    "# We create a subdataset based on the previous one\n",
    "# Split the data set into trianing and validation\n",
    "X = framingham_df[[\"SEX\", \"AGE\", \"CURSMOKE\",\n",
    "                   \"CIGPDAY\", \"BPMEDS\", \"PREVSTRK\",\n",
    "                   \"PREVHYP\", \"DIABP\", \"TOTCHOL\",\n",
    "                   \"BMI\", \"HEARTRTE\", \"GLUCOSE\"]]\n",
    "X.head()\n",
    "Y = framingham_df[\"SYSBP\"] "
   ]
  },
  {
   "cell_type": "code",
   "execution_count": 39,
   "id": "cognitive-danish",
   "metadata": {},
   "outputs": [],
   "source": [
    "X_train, X_test, y_train, y_test = train_test_split(X, Y, test_size = 0.2, random_state = 0)"
   ]
  },
  {
   "cell_type": "code",
   "execution_count": 40,
   "id": "romance-parish",
   "metadata": {},
   "outputs": [],
   "source": [
    "# Define ridge regression model\n",
    "ridge_model = Ridge()\n",
    "# Define model evaluation method\n",
    "# Here we use a non-repeat cv\n",
    "# For more about repeated cv:\n",
    "# https://machinelearningmastery.com/repeated-k-fold-cross-validation-with-python/\n",
    "cross_validation_1 = RepeatedKFold(n_splits=10, n_repeats=1, random_state=1)\n",
    "# define grid\n",
    "grid = dict()\n",
    "grid['alpha'] = np.arange(0, 1, 0.01)"
   ]
  },
  {
   "cell_type": "code",
   "execution_count": 51,
   "id": "democratic-montana",
   "metadata": {},
   "outputs": [
    {
     "name": "stdout",
     "output_type": "stream",
     "text": [
      "MAE: -10.133\n",
      "Alpha: {'alpha': 0.99}\n",
      "Best estimator: Ridge(alpha=0.99)\n",
      "Coefficients of best model: [ 2.15885975e+00  7.26427307e-01 -3.01462440e+00  1.21537758e-01\n",
      "  4.61237776e+00 -1.95629757e-01  1.23308470e+01  1.06550086e+00\n",
      "  1.01670466e-02 -1.18114409e-01 -2.97610019e-02  6.11025500e-02]\n"
     ]
    }
   ],
   "source": [
    "# Define search\n",
    "search = GridSearchCV(ridge_model, grid, scoring = 'neg_mean_absolute_error', cv = cross_validation_1, n_jobs = -1)\n",
    "# Perform the search\n",
    "fitted_ridge_model = search.fit(X_train, y_train)\n",
    "# Summarize\n",
    "print('MAE: %.3f' % fitted_ridge_model.best_score_)\n",
    "print('Alpha: %s' % fitted_ridge_model.best_params_)\n",
    "print('Best estimator: %s' % fitted_ridge_model.best_estimator_)\n",
    "print(\"Coefficients of best model: %s\" % fitted_ridge_model.best_estimator_.coef_)"
   ]
  },
  {
   "cell_type": "code",
   "execution_count": 48,
   "id": "opponent-stick",
   "metadata": {},
   "outputs": [],
   "source": [
    "# Make a prediction\n",
    "y_pred = fitted_ridge_model.best_estimator_.predict(X_test)"
   ]
  },
  {
   "cell_type": "markdown",
   "id": "revolutionary-obligation",
   "metadata": {},
   "source": [
    "Model evaluation"
   ]
  },
  {
   "cell_type": "code",
   "execution_count": 49,
   "id": "needed-vector",
   "metadata": {},
   "outputs": [
    {
     "name": "stdout",
     "output_type": "stream",
     "text": [
      "MSE: 178.12883692527365\n",
      "MAE: 10.210016750548728\n"
     ]
    }
   ],
   "source": [
    "# Obtain the value of MSE \n",
    "MSE = mean_squared_error(y_test, y_pred)\n",
    "print('MSE:', MSE)\n",
    "# Obtain the value of MAE \n",
    "MAE = mean_absolute_error(y_test, y_pred)\n",
    "print('MAE:', MAE)"
   ]
  },
  {
   "cell_type": "markdown",
   "id": "insured-causing",
   "metadata": {},
   "source": [
    "## Part 4: Naive Bayes"
   ]
  },
  {
   "cell_type": "code",
   "execution_count": null,
   "id": "opponent-silver",
   "metadata": {},
   "outputs": [],
   "source": []
  }
 ],
 "metadata": {
  "kernelspec": {
   "display_name": "Python 3",
   "language": "python",
   "name": "python3"
  },
  "language_info": {
   "codemirror_mode": {
    "name": "ipython",
    "version": 3
   },
   "file_extension": ".py",
   "mimetype": "text/x-python",
   "name": "python",
   "nbconvert_exporter": "python",
   "pygments_lexer": "ipython3",
   "version": "3.8.5"
  }
 },
 "nbformat": 4,
 "nbformat_minor": 5
}
